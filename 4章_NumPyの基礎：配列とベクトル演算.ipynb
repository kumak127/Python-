{
 "cells": [
  {
   "cell_type": "markdown",
   "metadata": {},
   "source": [
    "NumPyの特徴は  \n",
    "- 高速な行列計算と柔軟なブロードキャストを提供する効率的な多次元配列であるndarray\n",
    "- 高速に動作し、呼び出しにループ記法を必要としない標準的な数学関数\n",
    "- ディスクへの配列の読み書きに加え、メモリマップファイル機能を提供する入出力機能\n",
    "- 行列計算、乱数生成、フーリエ変換といった機能\n",
    "- C、C++、Fortranへのインタフェース"
   ]
  },
  {
   "cell_type": "markdown",
   "metadata": {},
   "source": [
    "この章ではNumPyの機能として以下のことを説明する  \n",
    "- ベクトル化記法による高速な計算  \n",
    "- データの変更、整頓、取り出しやフィルタリング、変換といったあらゆるデータ操作\n",
    "- 一般的な配列操作、ソートや重複除外操作、集合演算\n",
    "- 効率的な記述統計学的データ操作、またそれに必要なデータの結合、要約\n",
    "- 種類の異なるデータセットに対する統合や結合などといったデータ整理や関係データ処理\n",
    "- 配列内での条件記述、ループを書くことなく、配列内で直接if-elif-else相当の制御を記述する\n",
    "- グループ単位でのデータ操作(データ集計、データ構造の変更、関数の適用)"
   ]
  },
  {
   "cell_type": "markdown",
   "metadata": {},
   "source": [
    "# 4.1  NumPy ndarray:多次元配列オブジェクト"
   ]
  },
  {
   "cell_type": "markdown",
   "metadata": {},
   "source": [
    "ndarrayはNumPyの基本要素のひとつで、N次元配列オブジェクトに由来する  \n",
    "ndarrayはPython環境における高速かつ柔軟な大規模データ処理を提供する"
   ]
  },
  {
   "cell_type": "code",
   "execution_count": 1,
   "metadata": {},
   "outputs": [],
   "source": [
    "import numpy as np"
   ]
  },
  {
   "cell_type": "code",
   "execution_count": 2,
   "metadata": {},
   "outputs": [
    {
     "data": {
      "text/plain": [
       "array([[-0.25227396,  0.61182451, -0.71354294],\n",
       "       [-0.05191788,  2.5384165 ,  0.51647142]])"
      ]
     },
     "execution_count": 2,
     "metadata": {},
     "output_type": "execute_result"
    }
   ],
   "source": [
    "data = np.random.randn(2, 3)\n",
    "data"
   ]
  },
  {
   "cell_type": "code",
   "execution_count": 3,
   "metadata": {},
   "outputs": [
    {
     "data": {
      "text/plain": [
       "array([[-2.5227396 ,  6.11824512, -7.1354294 ],\n",
       "       [-0.51917882, 25.38416504,  5.16471421]])"
      ]
     },
     "execution_count": 3,
     "metadata": {},
     "output_type": "execute_result"
    }
   ],
   "source": [
    "data * 10"
   ]
  },
  {
   "cell_type": "code",
   "execution_count": 4,
   "metadata": {},
   "outputs": [
    {
     "data": {
      "text/plain": [
       "array([[-0.50454792,  1.22364902, -1.42708588],\n",
       "       [-0.10383576,  5.07683301,  1.03294284]])"
      ]
     },
     "execution_count": 4,
     "metadata": {},
     "output_type": "execute_result"
    }
   ],
   "source": [
    "data + data"
   ]
  },
  {
   "cell_type": "markdown",
   "metadata": {},
   "source": [
    "作成したndarrayに算術演算を行うことで、すべての配列要素にまとめて計算することができる"
   ]
  },
  {
   "cell_type": "code",
   "execution_count": 5,
   "metadata": {},
   "outputs": [
    {
     "data": {
      "text/plain": [
       "(2, 3)"
      ]
     },
     "execution_count": 5,
     "metadata": {},
     "output_type": "execute_result"
    }
   ],
   "source": [
    "data.shape"
   ]
  },
  {
   "cell_type": "code",
   "execution_count": 6,
   "metadata": {},
   "outputs": [
    {
     "data": {
      "text/plain": [
       "dtype('float64')"
      ]
     },
     "execution_count": 6,
     "metadata": {},
     "output_type": "execute_result"
    }
   ],
   "source": [
    "data.dtype"
   ]
  },
  {
   "cell_type": "markdown",
   "metadata": {},
   "source": [
    "配列の次元ごとの要素数は外側が2個、内側が3個ということがわかり、最も内側の型はfloat64ということがわかる"
   ]
  },
  {
   "cell_type": "markdown",
   "metadata": {},
   "source": [
    "## 4.1.1  ndarrayの生成"
   ]
  },
  {
   "cell_type": "markdown",
   "metadata": {},
   "source": [
    "ndarrayの最も簡単な生成方法はarray関数を使った方法になる  "
   ]
  },
  {
   "cell_type": "code",
   "execution_count": 7,
   "metadata": {},
   "outputs": [],
   "source": [
    "data1 = [6, 7.5, 8, 0, 1]"
   ]
  },
  {
   "cell_type": "code",
   "execution_count": 8,
   "metadata": {},
   "outputs": [
    {
     "data": {
      "text/plain": [
       "array([6. , 7.5, 8. , 0. , 1. ])"
      ]
     },
     "execution_count": 8,
     "metadata": {},
     "output_type": "execute_result"
    }
   ],
   "source": [
    "arr1 = np.array(data1)\n",
    "arr1"
   ]
  },
  {
   "cell_type": "markdown",
   "metadata": {},
   "source": [
    "array関数にリストを渡すことでできる"
   ]
  },
  {
   "cell_type": "code",
   "execution_count": 9,
   "metadata": {},
   "outputs": [],
   "source": [
    "data2 = [[1, 2, 3, 4],[5, 6, 7, 8]]"
   ]
  },
  {
   "cell_type": "code",
   "execution_count": 10,
   "metadata": {},
   "outputs": [
    {
     "data": {
      "text/plain": [
       "array([[1, 2, 3, 4],\n",
       "       [5, 6, 7, 8]])"
      ]
     },
     "execution_count": 10,
     "metadata": {},
     "output_type": "execute_result"
    }
   ],
   "source": [
    "arr2 = np.array(data2)\n",
    "arr2"
   ]
  },
  {
   "cell_type": "markdown",
   "metadata": {},
   "source": [
    "ネストしたリストも渡すことはできるが、内側の要素数がすべて一致していなければいけない"
   ]
  },
  {
   "cell_type": "code",
   "execution_count": 11,
   "metadata": {},
   "outputs": [
    {
     "data": {
      "text/plain": [
       "2"
      ]
     },
     "execution_count": 11,
     "metadata": {},
     "output_type": "execute_result"
    }
   ],
   "source": [
    "arr2.ndim"
   ]
  },
  {
   "cell_type": "code",
   "execution_count": 12,
   "metadata": {},
   "outputs": [
    {
     "data": {
      "text/plain": [
       "(2, 4)"
      ]
     },
     "execution_count": 12,
     "metadata": {},
     "output_type": "execute_result"
    }
   ],
   "source": [
    "arr2.shape"
   ]
  },
  {
   "cell_type": "markdown",
   "metadata": {},
   "source": [
    "ndim属性を呼び出すことで次元数を知ることができる  \n",
    "shape属性とndim属性を使うことで内部構成を知ることができる"
   ]
  },
  {
   "cell_type": "code",
   "execution_count": 13,
   "metadata": {},
   "outputs": [
    {
     "data": {
      "text/plain": [
       "array([0., 0., 0., 0., 0., 0., 0., 0., 0., 0.])"
      ]
     },
     "execution_count": 13,
     "metadata": {},
     "output_type": "execute_result"
    }
   ],
   "source": [
    "np.zeros(10)"
   ]
  },
  {
   "cell_type": "code",
   "execution_count": 14,
   "metadata": {},
   "outputs": [
    {
     "data": {
      "text/plain": [
       "array([[1., 1., 1., 1., 1., 1.],\n",
       "       [1., 1., 1., 1., 1., 1.],\n",
       "       [1., 1., 1., 1., 1., 1.]])"
      ]
     },
     "execution_count": 14,
     "metadata": {},
     "output_type": "execute_result"
    }
   ],
   "source": [
    "np.ones((3, 6))"
   ]
  },
  {
   "cell_type": "code",
   "execution_count": 15,
   "metadata": {},
   "outputs": [
    {
     "data": {
      "text/plain": [
       "array([[[0., 0.],\n",
       "        [0., 0.],\n",
       "        [0., 0.]],\n",
       "\n",
       "       [[0., 0.],\n",
       "        [0., 0.],\n",
       "        [0., 0.]]])"
      ]
     },
     "execution_count": 15,
     "metadata": {},
     "output_type": "execute_result"
    }
   ],
   "source": [
    "np.empty((2 ,3 ,2))"
   ]
  },
  {
   "cell_type": "markdown",
   "metadata": {},
   "source": [
    "zeros関数に要素数もしくは次元ごとの要素数のタプルを渡すことで、すべての要素に0の値を入れたndarrayを生成できる  \n",
    "ones関数に要素数もしくは次元ごとの要素数のタプルを渡すことで、すべての要素に1の値を入れたndarrayを生成できる  \n",
    "empty関数に要素数もしくは次元ごとの要素数のタプルを渡すことで、適当な数で生成される代わりに素早くndarrayを生成できる"
   ]
  },
  {
   "cell_type": "code",
   "execution_count": 16,
   "metadata": {},
   "outputs": [
    {
     "data": {
      "text/plain": [
       "array([ 0,  1,  2,  3,  4,  5,  6,  7,  8,  9, 10, 11, 12, 13, 14])"
      ]
     },
     "execution_count": 16,
     "metadata": {},
     "output_type": "execute_result"
    }
   ],
   "source": [
    "np.arange(15)"
   ]
  },
  {
   "cell_type": "markdown",
   "metadata": {},
   "source": [
    "arange関数は標準のrange関数と同じように指定することで、ndarrayを生成できる"
   ]
  },
  {
   "cell_type": "markdown",
   "metadata": {},
   "source": [
    "ndarray生成関数  \n",
    "\n",
    "|関数|説明|\n",
    "|:-|:-|\n",
    "|array|リスト、タプル、Python配列、その他列挙型といったデータを受けてndarrayを生成する|\n",
    "|asarray|array関数と同様にndarryを生成するが、渡されたものがndarrayだった場合はコピーを作成しない|\n",
    "|arange|range関数と同じ形でndarrayを生成する|\n",
    "|ones, ones_like|指定されたサイズの要素を1で埋めたndaarayを生成する、ones_likeは別のシーケンス型を受けてそれを基準とした1で埋めたndarrayを生成する|\n",
    "|zeros, zeros_like|指定されたサイズの要素を0で埋めたndaarayを生成する|\n",
    "|empty. empty_like|指定されたサイズの要素でndarrayを生成するが、各要素は初期化されず不定のまま|\n",
    "|full, full_like|指定されたサイズのndarrayを指定されたタイプで生成し、指定された値で埋める|\n",
    "|eye, identity|N×Nの単位行列となるndarrayを生成する(単位行列は、対角成分の要素が1、それ以外の要素がすべて0であるような行列)|"
   ]
  },
  {
   "cell_type": "markdown",
   "metadata": {},
   "source": [
    "## 4.1.2  ndarrayのデータ型"
   ]
  },
  {
   "cell_type": "markdown",
   "metadata": {},
   "source": [
    "dtypeはndarrayのデータ型になる  \n",
    "これはメモリ上のデータ表現形式を示す特別なオブジェクトで、データについてのデータということでメタデータの一種になる  \n",
    "dtypeの役割は、あるndarrayが格納されるメモリ範囲が特定のデータ型で解釈されることを示すこと"
   ]
  },
  {
   "cell_type": "code",
   "execution_count": 17,
   "metadata": {},
   "outputs": [
    {
     "data": {
      "text/plain": [
       "dtype('float64')"
      ]
     },
     "execution_count": 17,
     "metadata": {},
     "output_type": "execute_result"
    }
   ],
   "source": [
    "arr1 = np.array([1, 2, 3], dtype=np.float64)\n",
    "arr1.dtype"
   ]
  },
  {
   "cell_type": "code",
   "execution_count": 18,
   "metadata": {},
   "outputs": [
    {
     "data": {
      "text/plain": [
       "dtype('int32')"
      ]
     },
     "execution_count": 18,
     "metadata": {},
     "output_type": "execute_result"
    }
   ],
   "source": [
    "arr2 = np.array([1, 2, 3], dtype=np.int32)\n",
    "arr2.dtype"
   ]
  },
  {
   "cell_type": "markdown",
   "metadata": {},
   "source": [
    "外部システムとのデータ連携においてdtypeなしではできない  \n",
    "多くの場合、dtypeはメモリ上にその要素の機械表現をそのまま保持する  \n",
    "このためndarrayをバイトストリームとして直接読み書きしたり、ディスクに直接入出力したり、さらにはCやFortranといった機械言語に近い言語で書かれたアプリケーションと連携したり、といったことができる  \n",
    "数値型のdtypeには命名規則があり、float、intといった型名の後ろにビット長を示す数字が付く  \n",
    "たとえば倍精度浮動小数点を考えると、8バイト、すなわち64ビットで表現されるものであり、NumPyのdtypeはfloat64という型名になる  \n",
    "以下がNumPyのサポートするデータ型の表になる  \n",
    "\n",
    "|型|型コード|説明|\n",
    "|:-|:-|:-|\n",
    "|int8, uint8|i1, u1|符号あり/なし8ビット整数型(1バイト)|\n",
    "|int16, uint16|i2, u2|符号あり/なし16ビット整数値|\n",
    "|int32, uint32|i4, u4|符号あり/符号なし32ビット整数値|\n",
    "|int64, uint64|i8, u8|符号あり/符号なし64ビット整数値|\n",
    "|float16|f2|半精度浮動小数点型|\n",
    "|float32|f4(もしくはf)|単精度浮動小数点型|\n",
    "|float64|f8(もしくはd)|倍精度浮動小数点型|\n",
    "|float128|f16(もしくはg)|四倍精度浮動小数点型|\n",
    "|complex64, complex128, complex256|c8, c16, c32|複素数型。2つの浮動小数点数の組で表される。complex(64,128,256)は実部・虚部ともに(32,64,128)ビット単精度型|\n",
    "|bool|?|真偽値型(TrueあるいはFalse)|\n",
    "|object|0|Pythonオブジェクト型|\n",
    "|string_|S|固定長文字列型。1文字当たり1バイト。10文字の文字列型dtypeはS10となる|\n",
    "|unicode_|U|固定長ユニコード文字列型。1文字当たりのバイト数はプラットフォーム依存|"
   ]
  },
  {
   "cell_type": "markdown",
   "metadata": {},
   "source": [
    "dtypeを明示的に型変換(キャスト)するにはNumPyのastypeメソッドを使う  \n",
    "astypeは元となるndarrayをキャストし、コピーした新しいndarrayを戻す"
   ]
  },
  {
   "cell_type": "code",
   "execution_count": 19,
   "metadata": {},
   "outputs": [
    {
     "data": {
      "text/plain": [
       "dtype('int32')"
      ]
     },
     "execution_count": 19,
     "metadata": {},
     "output_type": "execute_result"
    }
   ],
   "source": [
    "arr = np.array([1, 2, 3, 4, 5])\n",
    "arr.dtype"
   ]
  },
  {
   "cell_type": "code",
   "execution_count": 20,
   "metadata": {},
   "outputs": [
    {
     "data": {
      "text/plain": [
       "dtype('float64')"
      ]
     },
     "execution_count": 20,
     "metadata": {},
     "output_type": "execute_result"
    }
   ],
   "source": [
    "float_arr = arr.astype(np.float64)\n",
    "float_arr.dtype"
   ]
  },
  {
   "cell_type": "code",
   "execution_count": 21,
   "metadata": {},
   "outputs": [
    {
     "data": {
      "text/plain": [
       "array([ 3.7, -1.2, -2.6,  0.5, 12.9, 10.1])"
      ]
     },
     "execution_count": 21,
     "metadata": {},
     "output_type": "execute_result"
    }
   ],
   "source": [
    "arr = np.array([3.7, -1.2, -2.6, 0.5, 12.9, 10.1])\n",
    "arr"
   ]
  },
  {
   "cell_type": "code",
   "execution_count": 22,
   "metadata": {},
   "outputs": [
    {
     "data": {
      "text/plain": [
       "array([ 3, -1, -2,  0, 12, 10])"
      ]
     },
     "execution_count": 22,
     "metadata": {},
     "output_type": "execute_result"
    }
   ],
   "source": [
    "arr.astype(np.int32)"
   ]
  },
  {
   "cell_type": "markdown",
   "metadata": {},
   "source": [
    "上のように整数型を小数点型にキャストしたり、小数型を整数型にキャストすることができる  \n",
    "ただし、小数型を整数型にキャストする場合は小数部は切り捨てられる"
   ]
  },
  {
   "cell_type": "code",
   "execution_count": 23,
   "metadata": {},
   "outputs": [
    {
     "data": {
      "text/plain": [
       "array([b'1.25', b'-9.6', b'42'], dtype='|S4')"
      ]
     },
     "execution_count": 23,
     "metadata": {},
     "output_type": "execute_result"
    }
   ],
   "source": [
    "numeric_strings = np.array([\"1.25\", \"-9.6\", \"42\"], dtype=np.string_)\n",
    "numeric_strings"
   ]
  },
  {
   "cell_type": "code",
   "execution_count": 24,
   "metadata": {},
   "outputs": [
    {
     "data": {
      "text/plain": [
       "array([ 1.25, -9.6 , 42.  ])"
      ]
     },
     "execution_count": 24,
     "metadata": {},
     "output_type": "execute_result"
    }
   ],
   "source": [
    "numeric_strings.astype(float)"
   ]
  },
  {
   "cell_type": "markdown",
   "metadata": {},
   "source": [
    "数値が文字列型として格納されている場合は、astypeを用いて数値型にキャストすることができる"
   ]
  },
  {
   "cell_type": "markdown",
   "metadata": {},
   "source": [
    "例えば数字でない文字列をfloat64にキャストしようとした場合など、なんらかの理由でキャストが失敗した場合はValueErrorが発生する  \n",
    "またnp.float64ではなくfloatと書くこともでき、その場合はNumPyは標準Python型をそれと等価なdtypeに自動変換してくれる"
   ]
  },
  {
   "cell_type": "code",
   "execution_count": 25,
   "metadata": {},
   "outputs": [],
   "source": [
    "int_arr = np.arange(10)"
   ]
  },
  {
   "cell_type": "code",
   "execution_count": 26,
   "metadata": {},
   "outputs": [],
   "source": [
    "calibers = np.array([.22, .270, .357, .380, .44, .50], dtype=np.float64)"
   ]
  },
  {
   "cell_type": "code",
   "execution_count": 27,
   "metadata": {},
   "outputs": [
    {
     "data": {
      "text/plain": [
       "array([0., 1., 2., 3., 4., 5., 6., 7., 8., 9.])"
      ]
     },
     "execution_count": 27,
     "metadata": {},
     "output_type": "execute_result"
    }
   ],
   "source": [
    "int_arr.astype(calibers.dtype)"
   ]
  },
  {
   "cell_type": "markdown",
   "metadata": {},
   "source": [
    "キャストを行う別の方法として、ndarrayオブジェクトのdtypeアトリビュートを渡すことでもできる"
   ]
  },
  {
   "cell_type": "code",
   "execution_count": 28,
   "metadata": {},
   "outputs": [
    {
     "data": {
      "text/plain": [
       "array([         0, 1075314688,          0, 1075707904,          0,\n",
       "       1075838976,          0, 1072693248], dtype=uint32)"
      ]
     },
     "execution_count": 28,
     "metadata": {},
     "output_type": "execute_result"
    }
   ],
   "source": [
    "empty_uint32 = np.empty(8, dtype=\"u4\")\n",
    "empty_uint32"
   ]
  },
  {
   "cell_type": "markdown",
   "metadata": {},
   "source": [
    "dtypeに型名を渡す以外にも、型コードを渡すことでもできる"
   ]
  },
  {
   "cell_type": "markdown",
   "metadata": {},
   "source": [
    "## 4.1.3  ndarrayの算術演算"
   ]
  },
  {
   "cell_type": "markdown",
   "metadata": {},
   "source": [
    "ndarrayでは、要素ごとの処理のためにわざわざループを書く必要がない  \n",
    "この機能はベクトル演算と呼ばれ、NumPyの重要な特徴のひとつになる  "
   ]
  },
  {
   "cell_type": "code",
   "execution_count": 29,
   "metadata": {},
   "outputs": [
    {
     "data": {
      "text/plain": [
       "array([[1., 2., 3.],\n",
       "       [4., 5., 6.]])"
      ]
     },
     "execution_count": 29,
     "metadata": {},
     "output_type": "execute_result"
    }
   ],
   "source": [
    "arr = np.array([[1., 2., 3.], [4., 5., 6.]])\n",
    "arr"
   ]
  },
  {
   "cell_type": "code",
   "execution_count": 30,
   "metadata": {},
   "outputs": [
    {
     "data": {
      "text/plain": [
       "array([[ 1.,  4.,  9.],\n",
       "       [16., 25., 36.]])"
      ]
     },
     "execution_count": 30,
     "metadata": {},
     "output_type": "execute_result"
    }
   ],
   "source": [
    "arr * arr"
   ]
  },
  {
   "cell_type": "code",
   "execution_count": 31,
   "metadata": {},
   "outputs": [
    {
     "data": {
      "text/plain": [
       "array([[0., 0., 0.],\n",
       "       [0., 0., 0.]])"
      ]
     },
     "execution_count": 31,
     "metadata": {},
     "output_type": "execute_result"
    }
   ],
   "source": [
    "arr - arr"
   ]
  },
  {
   "cell_type": "markdown",
   "metadata": {},
   "source": [
    "同じサイズのndarray同士の算術演算は、同位置の要素同士で計算される"
   ]
  },
  {
   "cell_type": "code",
   "execution_count": 32,
   "metadata": {},
   "outputs": [
    {
     "data": {
      "text/plain": [
       "array([[1.        , 0.5       , 0.33333333],\n",
       "       [0.25      , 0.2       , 0.16666667]])"
      ]
     },
     "execution_count": 32,
     "metadata": {},
     "output_type": "execute_result"
    }
   ],
   "source": [
    "1 / arr"
   ]
  },
  {
   "cell_type": "code",
   "execution_count": 33,
   "metadata": {},
   "outputs": [
    {
     "data": {
      "text/plain": [
       "array([[1.        , 1.41421356, 1.73205081],\n",
       "       [2.        , 2.23606798, 2.44948974]])"
      ]
     },
     "execution_count": 33,
     "metadata": {},
     "output_type": "execute_result"
    }
   ],
   "source": [
    "arr ** 0.5"
   ]
  },
  {
   "cell_type": "markdown",
   "metadata": {},
   "source": [
    "スカラーとndarrayとの算術演算は、要素ごとに計算される"
   ]
  },
  {
   "cell_type": "code",
   "execution_count": 34,
   "metadata": {},
   "outputs": [
    {
     "data": {
      "text/plain": [
       "array([[ 0.,  4.,  1.],\n",
       "       [ 7.,  2., 12.]])"
      ]
     },
     "execution_count": 34,
     "metadata": {},
     "output_type": "execute_result"
    }
   ],
   "source": [
    "arr2 = np.array([[0., 4., 1.,], [7., 2., 12.]])\n",
    "arr2"
   ]
  },
  {
   "cell_type": "code",
   "execution_count": 35,
   "metadata": {},
   "outputs": [
    {
     "data": {
      "text/plain": [
       "array([[False,  True, False],\n",
       "       [ True, False,  True]])"
      ]
     },
     "execution_count": 35,
     "metadata": {},
     "output_type": "execute_result"
    }
   ],
   "source": [
    "arr2 > arr"
   ]
  },
  {
   "cell_type": "markdown",
   "metadata": {},
   "source": [
    "ndarray間を比較したとき、その結果はどう要素数のbool値で戻される"
   ]
  },
  {
   "cell_type": "markdown",
   "metadata": {},
   "source": [
    "サイズの異なるndarray同士の演算はブロードキャストと呼ばれる"
   ]
  },
  {
   "cell_type": "markdown",
   "metadata": {},
   "source": [
    "## 4.1.4  インデックス参照とスライシングの基礎"
   ]
  },
  {
   "cell_type": "markdown",
   "metadata": {},
   "source": [
    "インデックス参照はデータから一部を切り出す、あるいは個々の要素を取り出すことができる機能になる  \n",
    "インデックス参照には様々な方法が存在する"
   ]
  },
  {
   "cell_type": "code",
   "execution_count": 36,
   "metadata": {},
   "outputs": [
    {
     "data": {
      "text/plain": [
       "array([0, 1, 2, 3, 4, 5, 6, 7, 8, 9])"
      ]
     },
     "execution_count": 36,
     "metadata": {},
     "output_type": "execute_result"
    }
   ],
   "source": [
    "arr = np.arange(10)\n",
    "arr"
   ]
  },
  {
   "cell_type": "code",
   "execution_count": 37,
   "metadata": {},
   "outputs": [
    {
     "data": {
      "text/plain": [
       "5"
      ]
     },
     "execution_count": 37,
     "metadata": {},
     "output_type": "execute_result"
    }
   ],
   "source": [
    "arr[5]"
   ]
  },
  {
   "cell_type": "code",
   "execution_count": 38,
   "metadata": {},
   "outputs": [
    {
     "data": {
      "text/plain": [
       "array([5, 6, 7])"
      ]
     },
     "execution_count": 38,
     "metadata": {},
     "output_type": "execute_result"
    }
   ],
   "source": [
    "arr[5:8]"
   ]
  },
  {
   "cell_type": "code",
   "execution_count": 39,
   "metadata": {},
   "outputs": [
    {
     "data": {
      "text/plain": [
       "array([ 0,  1,  2,  3,  4, 12, 12, 12,  8,  9])"
      ]
     },
     "execution_count": 39,
     "metadata": {},
     "output_type": "execute_result"
    }
   ],
   "source": [
    "arr[5:8] = 12\n",
    "arr"
   ]
  },
  {
   "cell_type": "markdown",
   "metadata": {},
   "source": [
    "1次元のndarrayの場合、リストfと同じようにスライスを使って取り出すことができる  \n",
    "また、指定した範囲に代入を行うことで要素の変更もできる  "
   ]
  },
  {
   "cell_type": "code",
   "execution_count": 40,
   "metadata": {},
   "outputs": [
    {
     "data": {
      "text/plain": [
       "array([12, 12, 12])"
      ]
     },
     "execution_count": 40,
     "metadata": {},
     "output_type": "execute_result"
    }
   ],
   "source": [
    "arr_slice =arr[5:8]\n",
    "arr_slice"
   ]
  },
  {
   "cell_type": "code",
   "execution_count": 41,
   "metadata": {},
   "outputs": [
    {
     "data": {
      "text/plain": [
       "array([    0,     1,     2,     3,     4,    12, 12345,    12,     8,\n",
       "           9])"
      ]
     },
     "execution_count": 41,
     "metadata": {},
     "output_type": "execute_result"
    }
   ],
   "source": [
    "arr_slice[1] = 12345\n",
    "arr"
   ]
  },
  {
   "cell_type": "code",
   "execution_count": 42,
   "metadata": {},
   "outputs": [
    {
     "data": {
      "text/plain": [
       "array([ 0,  1,  2,  3,  4, 64, 64, 64,  8,  9])"
      ]
     },
     "execution_count": 42,
     "metadata": {},
     "output_type": "execute_result"
    }
   ],
   "source": [
    "arr_slice[:] = 64\n",
    "arr"
   ]
  },
  {
   "cell_type": "markdown",
   "metadata": {},
   "source": [
    "Pythonのリストとの違いは、スライスした結果が元のndarrayのビュー(参照)であり、元のndarrayのコピーではないというところにある  \n",
    "そのため、スライスに対して変更を行うと元のndarrayも反映される"
   ]
  },
  {
   "cell_type": "code",
   "execution_count": 43,
   "metadata": {},
   "outputs": [
    {
     "data": {
      "text/plain": [
       "array([64, 64, 64])"
      ]
     },
     "execution_count": 43,
     "metadata": {},
     "output_type": "execute_result"
    }
   ],
   "source": [
    "arr_copy = arr[5:8].copy()\n",
    "arr_copy"
   ]
  },
  {
   "cell_type": "code",
   "execution_count": 44,
   "metadata": {},
   "outputs": [
    {
     "data": {
      "text/plain": [
       "array([ 0,  1,  2,  3,  4, 64, 64, 64,  8,  9])"
      ]
     },
     "execution_count": 44,
     "metadata": {},
     "output_type": "execute_result"
    }
   ],
   "source": [
    "arr_copy[:] = 10\n",
    "arr"
   ]
  },
  {
   "cell_type": "markdown",
   "metadata": {},
   "source": [
    "スライスをニューではなくコピーしたい場合は、ndarrayのコピーメソッドを呼び出して別の変数に代入することで明示的にコピーをする必要がある"
   ]
  },
  {
   "cell_type": "code",
   "execution_count": 45,
   "metadata": {},
   "outputs": [
    {
     "data": {
      "text/plain": [
       "array([[1, 2, 3],\n",
       "       [4, 5, 6],\n",
       "       [7, 8, 9]])"
      ]
     },
     "execution_count": 45,
     "metadata": {},
     "output_type": "execute_result"
    }
   ],
   "source": [
    "arr2d = np.array([[1, 2, 3], [4, 5, 6], [7, 8, 9]])\n",
    "arr2d"
   ]
  },
  {
   "cell_type": "code",
   "execution_count": 46,
   "metadata": {},
   "outputs": [
    {
     "data": {
      "text/plain": [
       "array([7, 8, 9])"
      ]
     },
     "execution_count": 46,
     "metadata": {},
     "output_type": "execute_result"
    }
   ],
   "source": [
    "arr2d[2]"
   ]
  },
  {
   "cell_type": "code",
   "execution_count": 47,
   "metadata": {},
   "outputs": [
    {
     "data": {
      "text/plain": [
       "3"
      ]
     },
     "execution_count": 47,
     "metadata": {},
     "output_type": "execute_result"
    }
   ],
   "source": [
    "arr2d[0][2]"
   ]
  },
  {
   "cell_type": "code",
   "execution_count": 48,
   "metadata": {},
   "outputs": [
    {
     "data": {
      "text/plain": [
       "3"
      ]
     },
     "execution_count": 48,
     "metadata": {},
     "output_type": "execute_result"
    }
   ],
   "source": [
    "arr2d[0, 2]"
   ]
  },
  {
   "cell_type": "markdown",
   "metadata": {},
   "source": [
    "多次元のndarrayの場合は、リストのようにインデックス値を指定してもスカラー値ではなく配列が取得される  \n",
    "そのため手に入れたいスカラー値か配列にたどり着くまでインデックス指定を繰り返す必要がある  \n",
    "[N][N]のように指定してもよいし、簡単に書きたいなら[N, N]とまとめて書くこともできる"
   ]
  },
  {
   "cell_type": "markdown",
   "metadata": {},
   "source": [
    "### 4.1.4.1  スライスによるインデックス参照"
   ]
  },
  {
   "cell_type": "markdown",
   "metadata": {},
   "source": [
    "ndarrayはスライス記法で部分的に切り出すことができる"
   ]
  },
  {
   "cell_type": "code",
   "execution_count": 49,
   "metadata": {},
   "outputs": [
    {
     "data": {
      "text/plain": [
       "array([ 0,  1,  2,  3,  4, 64, 64, 64,  8,  9])"
      ]
     },
     "execution_count": 49,
     "metadata": {},
     "output_type": "execute_result"
    }
   ],
   "source": [
    "arr"
   ]
  },
  {
   "cell_type": "code",
   "execution_count": 50,
   "metadata": {},
   "outputs": [
    {
     "data": {
      "text/plain": [
       "array([ 1,  2,  3,  4, 64])"
      ]
     },
     "execution_count": 50,
     "metadata": {},
     "output_type": "execute_result"
    }
   ],
   "source": [
    "arr[1:6]"
   ]
  },
  {
   "cell_type": "code",
   "execution_count": 51,
   "metadata": {},
   "outputs": [
    {
     "data": {
      "text/plain": [
       "array([[1, 2, 3],\n",
       "       [4, 5, 6],\n",
       "       [7, 8, 9]])"
      ]
     },
     "execution_count": 51,
     "metadata": {},
     "output_type": "execute_result"
    }
   ],
   "source": [
    "arr2d"
   ]
  },
  {
   "cell_type": "code",
   "execution_count": 52,
   "metadata": {},
   "outputs": [
    {
     "data": {
      "text/plain": [
       "array([[1, 2, 3],\n",
       "       [4, 5, 6]])"
      ]
     },
     "execution_count": 52,
     "metadata": {},
     "output_type": "execute_result"
    }
   ],
   "source": [
    "arr2d[:2]"
   ]
  },
  {
   "cell_type": "markdown",
   "metadata": {},
   "source": [
    "リストと同じようにすれば1次元のndarrayだと参照することができる"
   ]
  },
  {
   "cell_type": "code",
   "execution_count": 53,
   "metadata": {},
   "outputs": [
    {
     "data": {
      "text/plain": [
       "array([[2, 3],\n",
       "       [5, 6]])"
      ]
     },
     "execution_count": 53,
     "metadata": {},
     "output_type": "execute_result"
    }
   ],
   "source": [
    "arr2d[:2, 1:]"
   ]
  },
  {
   "cell_type": "markdown",
   "metadata": {},
   "source": [
    "多次元の場合は上で行ったインデックス指定のように[1番目の次元の範囲指定, 2番目の次元の範囲指定,...]とすることで細かく範囲指定を行うことができる  \n",
    "このように範囲指定でスライス行う場合、得られるのは元の次元と同次元のビューになる"
   ]
  },
  {
   "cell_type": "code",
   "execution_count": 54,
   "metadata": {},
   "outputs": [
    {
     "data": {
      "text/plain": [
       "array([4, 5])"
      ]
     },
     "execution_count": 54,
     "metadata": {},
     "output_type": "execute_result"
    }
   ],
   "source": [
    "arr2d[1, :2] # 1次元にする"
   ]
  },
  {
   "cell_type": "markdown",
   "metadata": {},
   "source": [
    "一方で、スライスだけでなくインデックス指定を交えて範囲を指定した場合は元の次元数よりも次元が減ったものになる  \n",
    "上では2つめの配列を指定したうえで、範囲指定を行っている"
   ]
  },
  {
   "cell_type": "code",
   "execution_count": 55,
   "metadata": {},
   "outputs": [
    {
     "data": {
      "text/plain": [
       "array([[4, 5]])"
      ]
     },
     "execution_count": 55,
     "metadata": {},
     "output_type": "execute_result"
    }
   ],
   "source": [
    "arr2d[1:2, :2] # 2次元を維持"
   ]
  },
  {
   "cell_type": "markdown",
   "metadata": {},
   "source": [
    "つまり次元数を変更ししたくない場合は、インデックス指定を使わずにスライスを使って範囲を指定すればよい"
   ]
  },
  {
   "cell_type": "code",
   "execution_count": 56,
   "metadata": {},
   "outputs": [
    {
     "data": {
      "text/plain": [
       "array([[1, 0, 0],\n",
       "       [4, 0, 0],\n",
       "       [7, 8, 9]])"
      ]
     },
     "execution_count": 56,
     "metadata": {},
     "output_type": "execute_result"
    }
   ],
   "source": [
    "arr2d[:2, 1:] = 0\n",
    "arr2d"
   ]
  },
  {
   "cell_type": "markdown",
   "metadata": {},
   "source": [
    "スライスしたndarrayへスカラー値の代入を行うと、その範囲の要素すべてを変更する(インデックス指定のときと同じ)"
   ]
  },
  {
   "cell_type": "markdown",
   "metadata": {},
   "source": [
    "## 4.1.5  ブルーインデックス参照"
   ]
  },
  {
   "cell_type": "code",
   "execution_count": 57,
   "metadata": {},
   "outputs": [
    {
     "data": {
      "text/plain": [
       "array(['Bob', 'Joe', 'Will', 'Bob', 'Will', 'Joe', 'Joe'], dtype='<U4')"
      ]
     },
     "execution_count": 57,
     "metadata": {},
     "output_type": "execute_result"
    }
   ],
   "source": [
    "names = np.array([\"Bob\", \"Joe\", \"Will\", \"Bob\", \"Will\", \"Joe\", \"Joe\"])\n",
    "names"
   ]
  },
  {
   "cell_type": "code",
   "execution_count": 58,
   "metadata": {},
   "outputs": [
    {
     "data": {
      "text/plain": [
       "array([[ 0.45317028,  1.05357944,  0.73467967, -0.78044309],\n",
       "       [ 0.30083998,  1.86274804,  0.95165147, -1.39499328],\n",
       "       [-0.33316529, -1.03097943,  1.27748006, -0.51466567],\n",
       "       [-0.82153369,  1.50253666,  0.35659241, -0.91788374],\n",
       "       [-0.33523773, -0.39816531,  0.43901122,  1.47092568],\n",
       "       [-0.21822879,  0.21207756,  1.73738333,  2.31897921],\n",
       "       [-1.03872833, -0.16408179, -0.39457264, -1.00006852]])"
      ]
     },
     "execution_count": 58,
     "metadata": {},
     "output_type": "execute_result"
    }
   ],
   "source": [
    "data = np.random.randn(7, 4)\n",
    "data"
   ]
  },
  {
   "cell_type": "markdown",
   "metadata": {},
   "source": [
    "namesは一次元の配列で重複した要素のあるndarrayで、dataは7×4の二次元のランダムな数字のndarrayになる  \n",
    "namesの内容がdataのそれぞれの行に対応しているものとする"
   ]
  },
  {
   "cell_type": "code",
   "execution_count": 59,
   "metadata": {},
   "outputs": [
    {
     "data": {
      "text/plain": [
       "array([ True, False, False,  True, False, False, False])"
      ]
     },
     "execution_count": 59,
     "metadata": {},
     "output_type": "execute_result"
    }
   ],
   "source": [
    "names == \"Bob\""
   ]
  },
  {
   "cell_type": "markdown",
   "metadata": {},
   "source": [
    "上のようにndarrayに比較演算を行うことで、ブール値のndarrayを得ることができる  \n",
    "これを利用して参照するのがブールインデックス参照というものになる"
   ]
  },
  {
   "cell_type": "code",
   "execution_count": 60,
   "metadata": {},
   "outputs": [
    {
     "data": {
      "text/plain": [
       "array([[ 0.45317028,  1.05357944,  0.73467967, -0.78044309],\n",
       "       [-0.82153369,  1.50253666,  0.35659241, -0.91788374]])"
      ]
     },
     "execution_count": 60,
     "metadata": {},
     "output_type": "execute_result"
    }
   ],
   "source": [
    "data[names == \"Bob\"]"
   ]
  },
  {
   "cell_type": "markdown",
   "metadata": {},
   "source": [
    "上のように比較演算式を用いてインデックス指定を行うことができる  \n",
    "ただし、参照先配列の軸の要素数と真偽値配列の要素数が一致している必要がある"
   ]
  },
  {
   "cell_type": "code",
   "execution_count": 61,
   "metadata": {},
   "outputs": [
    {
     "data": {
      "text/plain": [
       "array([[ 0.73467967, -0.78044309],\n",
       "       [ 0.35659241, -0.91788374]])"
      ]
     },
     "execution_count": 61,
     "metadata": {},
     "output_type": "execute_result"
    }
   ],
   "source": [
    "data[names == \"Bob\", 2:]"
   ]
  },
  {
   "cell_type": "code",
   "execution_count": 62,
   "metadata": {},
   "outputs": [
    {
     "data": {
      "text/plain": [
       "array([-0.78044309, -0.91788374])"
      ]
     },
     "execution_count": 62,
     "metadata": {},
     "output_type": "execute_result"
    }
   ],
   "source": [
    "data[names == \"Bob\", 3]"
   ]
  },
  {
   "cell_type": "markdown",
   "metadata": {},
   "source": [
    "ブールインデックス指定とスライスの範囲指定やインデックス指定を組み合わせることも可能"
   ]
  },
  {
   "cell_type": "code",
   "execution_count": 63,
   "metadata": {},
   "outputs": [
    {
     "data": {
      "text/plain": [
       "array([[ 0.30083998,  1.86274804,  0.95165147, -1.39499328],\n",
       "       [-0.33316529, -1.03097943,  1.27748006, -0.51466567],\n",
       "       [-0.33523773, -0.39816531,  0.43901122,  1.47092568],\n",
       "       [-0.21822879,  0.21207756,  1.73738333,  2.31897921],\n",
       "       [-1.03872833, -0.16408179, -0.39457264, -1.00006852]])"
      ]
     },
     "execution_count": 63,
     "metadata": {},
     "output_type": "execute_result"
    }
   ],
   "source": [
    "data[names != \"Bob\"]"
   ]
  },
  {
   "cell_type": "code",
   "execution_count": 64,
   "metadata": {},
   "outputs": [
    {
     "data": {
      "text/plain": [
       "array([[ 0.30083998,  1.86274804,  0.95165147, -1.39499328],\n",
       "       [-0.33316529, -1.03097943,  1.27748006, -0.51466567],\n",
       "       [-0.33523773, -0.39816531,  0.43901122,  1.47092568],\n",
       "       [-0.21822879,  0.21207756,  1.73738333,  2.31897921],\n",
       "       [-1.03872833, -0.16408179, -0.39457264, -1.00006852]])"
      ]
     },
     "execution_count": 64,
     "metadata": {},
     "output_type": "execute_result"
    }
   ],
   "source": [
    "data[~(names == \"Bob\")]"
   ]
  },
  {
   "cell_type": "markdown",
   "metadata": {},
   "source": [
    "比較演算子として!=を使ってもよいし、真偽を逆転させる~を使ってのブールインデックス指定もできる"
   ]
  },
  {
   "cell_type": "code",
   "execution_count": 65,
   "metadata": {},
   "outputs": [
    {
     "data": {
      "text/plain": [
       "array([ True, False,  True,  True,  True, False, False])"
      ]
     },
     "execution_count": 65,
     "metadata": {},
     "output_type": "execute_result"
    }
   ],
   "source": [
    "mask = (names == \"Bob\") | (names == \"Will\")\n",
    "mask"
   ]
  },
  {
   "cell_type": "code",
   "execution_count": 66,
   "metadata": {},
   "outputs": [
    {
     "data": {
      "text/plain": [
       "array([[ 0.30083998,  1.86274804,  0.95165147, -1.39499328],\n",
       "       [-0.21822879,  0.21207756,  1.73738333,  2.31897921],\n",
       "       [-1.03872833, -0.16408179, -0.39457264, -1.00006852]])"
      ]
     },
     "execution_count": 66,
     "metadata": {},
     "output_type": "execute_result"
    }
   ],
   "source": [
    "data[~mask]"
   ]
  },
  {
   "cell_type": "code",
   "execution_count": 67,
   "metadata": {},
   "outputs": [
    {
     "data": {
      "text/plain": [
       "array([[ 0.45317028,  1.05357944,  0.73467967, -0.78044309],\n",
       "       [-0.33316529, -1.03097943,  1.27748006, -0.51466567],\n",
       "       [-0.82153369,  1.50253666,  0.35659241, -0.91788374],\n",
       "       [-0.33523773, -0.39816531,  0.43901122,  1.47092568]])"
      ]
     },
     "execution_count": 67,
     "metadata": {},
     "output_type": "execute_result"
    }
   ],
   "source": [
    "data[(names == \"Bob\") | (names == \"Will\")]"
   ]
  },
  {
   "cell_type": "markdown",
   "metadata": {},
   "source": [
    "2つ以上の条件を組み合わせることもでき、論理演算子の&(and)や|(or)を使うことでできる"
   ]
  },
  {
   "cell_type": "markdown",
   "metadata": {},
   "source": [
    "ブールインデックス参照で摘出されたデータは、元データのコピーになる"
   ]
  },
  {
   "cell_type": "code",
   "execution_count": 68,
   "metadata": {},
   "outputs": [
    {
     "data": {
      "text/plain": [
       "array([[0.45317028, 1.05357944, 0.73467967, 0.        ],\n",
       "       [0.30083998, 1.86274804, 0.95165147, 0.        ],\n",
       "       [0.        , 0.        , 1.27748006, 0.        ],\n",
       "       [0.        , 1.50253666, 0.35659241, 0.        ],\n",
       "       [0.        , 0.        , 0.43901122, 1.47092568],\n",
       "       [0.        , 0.21207756, 1.73738333, 2.31897921],\n",
       "       [0.        , 0.        , 0.        , 0.        ]])"
      ]
     },
     "execution_count": 68,
     "metadata": {},
     "output_type": "execute_result"
    }
   ],
   "source": [
    "data[data < 0] = 0\n",
    "data"
   ]
  },
  {
   "cell_type": "code",
   "execution_count": 69,
   "metadata": {},
   "outputs": [
    {
     "data": {
      "text/plain": [
       "array([[7.        , 7.        , 7.        , 7.        ],\n",
       "       [0.30083998, 1.86274804, 0.95165147, 0.        ],\n",
       "       [7.        , 7.        , 7.        , 7.        ],\n",
       "       [7.        , 7.        , 7.        , 7.        ],\n",
       "       [7.        , 7.        , 7.        , 7.        ],\n",
       "       [0.        , 0.21207756, 1.73738333, 2.31897921],\n",
       "       [0.        , 0.        , 0.        , 0.        ]])"
      ]
     },
     "execution_count": 69,
     "metadata": {},
     "output_type": "execute_result"
    }
   ],
   "source": [
    "data[names != \"Joe\"] = 7\n",
    "data"
   ]
  },
  {
   "cell_type": "markdown",
   "metadata": {},
   "source": [
    "ブールインデックス参照を使って、条件を満たした要素のみに値を代入することができる"
   ]
  },
  {
   "cell_type": "markdown",
   "metadata": {},
   "source": [
    "## 4.1.6  ファンシーインデックス参照"
   ]
  },
  {
   "cell_type": "markdown",
   "metadata": {},
   "source": [
    "ファンシーインデックス参照とは、インデックス参照に整数配列を用いる方法になる"
   ]
  },
  {
   "cell_type": "code",
   "execution_count": 70,
   "metadata": {},
   "outputs": [
    {
     "data": {
      "text/plain": [
       "array([[0., 0., 0., 0.],\n",
       "       [0., 0., 0., 0.],\n",
       "       [0., 0., 0., 0.],\n",
       "       [0., 0., 0., 0.],\n",
       "       [0., 0., 0., 0.],\n",
       "       [0., 0., 0., 0.],\n",
       "       [0., 0., 0., 0.],\n",
       "       [0., 0., 0., 0.]])"
      ]
     },
     "execution_count": 70,
     "metadata": {},
     "output_type": "execute_result"
    }
   ],
   "source": [
    "arr = np.empty((8,4))\n",
    "arr"
   ]
  },
  {
   "cell_type": "code",
   "execution_count": 71,
   "metadata": {},
   "outputs": [
    {
     "data": {
      "text/plain": [
       "array([[0., 0., 0., 0.],\n",
       "       [1., 1., 1., 1.],\n",
       "       [2., 2., 2., 2.],\n",
       "       [3., 3., 3., 3.],\n",
       "       [4., 4., 4., 4.],\n",
       "       [5., 5., 5., 5.],\n",
       "       [6., 6., 6., 6.],\n",
       "       [7., 7., 7., 7.]])"
      ]
     },
     "execution_count": 71,
     "metadata": {},
     "output_type": "execute_result"
    }
   ],
   "source": [
    "for i in range(8):\n",
    "    arr[i] = i\n",
    "arr"
   ]
  },
  {
   "cell_type": "code",
   "execution_count": 72,
   "metadata": {},
   "outputs": [
    {
     "data": {
      "text/plain": [
       "array([[4., 4., 4., 4.],\n",
       "       [3., 3., 3., 3.],\n",
       "       [0., 0., 0., 0.],\n",
       "       [6., 6., 6., 6.]])"
      ]
     },
     "execution_count": 72,
     "metadata": {},
     "output_type": "execute_result"
    }
   ],
   "source": [
    "arr[[4, 3, 0, 6]]"
   ]
  },
  {
   "cell_type": "markdown",
   "metadata": {},
   "source": [
    "ndarrayに整数のリスト、もしくはndarrayをインデックス参照として渡すことで、特定の順序で行を抽出することができる"
   ]
  },
  {
   "cell_type": "code",
   "execution_count": 73,
   "metadata": {},
   "outputs": [
    {
     "data": {
      "text/plain": [
       "array([[5., 5., 5., 5.],\n",
       "       [3., 3., 3., 3.],\n",
       "       [1., 1., 1., 1.]])"
      ]
     },
     "execution_count": 73,
     "metadata": {},
     "output_type": "execute_result"
    }
   ],
   "source": [
    "arr[[-3, -5, -7]]"
   ]
  },
  {
   "cell_type": "markdown",
   "metadata": {},
   "source": [
    "負数でも同じように順番通りに指定することができる"
   ]
  },
  {
   "cell_type": "code",
   "execution_count": 74,
   "metadata": {},
   "outputs": [
    {
     "data": {
      "text/plain": [
       "array([[ 0,  1,  2,  3],\n",
       "       [ 4,  5,  6,  7],\n",
       "       [ 8,  9, 10, 11],\n",
       "       [12, 13, 14, 15],\n",
       "       [16, 17, 18, 19],\n",
       "       [20, 21, 22, 23],\n",
       "       [24, 25, 26, 27],\n",
       "       [28, 29, 30, 31]])"
      ]
     },
     "execution_count": 74,
     "metadata": {},
     "output_type": "execute_result"
    }
   ],
   "source": [
    "arr = np.arange(32).reshape((8, 4))\n",
    "arr"
   ]
  },
  {
   "cell_type": "code",
   "execution_count": 75,
   "metadata": {},
   "outputs": [
    {
     "data": {
      "text/plain": [
       "array([ 4, 23, 29, 10])"
      ]
     },
     "execution_count": 75,
     "metadata": {},
     "output_type": "execute_result"
    }
   ],
   "source": [
    "arr[[1, 5, 7, 2], [0, 3, 1, 2]]"
   ]
  },
  {
   "cell_type": "markdown",
   "metadata": {},
   "source": [
    "二次元配列に対して複数のインデックス配列を指定すると、結果は一次元配列として返ってきてしまう  \n",
    "上の場合だと(1,0),(5,3),(7,1),(2,2)の位置の要素が選択されたことになる  "
   ]
  },
  {
   "cell_type": "code",
   "execution_count": 76,
   "metadata": {},
   "outputs": [
    {
     "data": {
      "text/plain": [
       "array([[ 4,  7,  5,  6],\n",
       "       [20, 23, 21, 22],\n",
       "       [28, 31, 29, 30],\n",
       "       [ 8, 11,  9, 10]])"
      ]
     },
     "execution_count": 76,
     "metadata": {},
     "output_type": "execute_result"
    }
   ],
   "source": [
    "arr[[1, 5, 7, 2]][:, [0, 3, 1, 2]]"
   ]
  },
  {
   "cell_type": "markdown",
   "metadata": {},
   "source": [
    "2次元配列のまま、ndarrayの列と行を入れ替えた配列を摘出したい場合は上のようにすることでできる  \n",
    "最初のファンシーインデックス参照で行を選択して並び替え  \n",
    "次のファンシーインデックス参照で最初の次元はすべて選択し、列を0,3,1,2の順番で並び替えている"
   ]
  },
  {
   "cell_type": "markdown",
   "metadata": {},
   "source": [
    "## 4.1.7  転置行列、行と列の入れ替え"
   ]
  },
  {
   "cell_type": "markdown",
   "metadata": {},
   "source": [
    "ndarrayの転置はオリジナルの行列を再構成した特別なビューを返す  \n",
    "行列を転置するにはtranspose関数を適用する方法と、ndarrayの属性のひとつであるTを参照する方法がある"
   ]
  },
  {
   "cell_type": "code",
   "execution_count": 77,
   "metadata": {},
   "outputs": [
    {
     "data": {
      "text/plain": [
       "array([[ 0,  1,  2,  3,  4],\n",
       "       [ 5,  6,  7,  8,  9],\n",
       "       [10, 11, 12, 13, 14]])"
      ]
     },
     "execution_count": 77,
     "metadata": {},
     "output_type": "execute_result"
    }
   ],
   "source": [
    "arr = np.arange(15).reshape((3, 5))\n",
    "arr"
   ]
  },
  {
   "cell_type": "code",
   "execution_count": 78,
   "metadata": {},
   "outputs": [
    {
     "data": {
      "text/plain": [
       "array([[ 0,  5, 10],\n",
       "       [ 1,  6, 11],\n",
       "       [ 2,  7, 12],\n",
       "       [ 3,  8, 13],\n",
       "       [ 4,  9, 14]])"
      ]
     },
     "execution_count": 78,
     "metadata": {},
     "output_type": "execute_result"
    }
   ],
   "source": [
    "arr.T"
   ]
  },
  {
   "cell_type": "markdown",
   "metadata": {},
   "source": [
    "上が属性のTを参照する方法"
   ]
  },
  {
   "cell_type": "code",
   "execution_count": 79,
   "metadata": {},
   "outputs": [
    {
     "data": {
      "text/plain": [
       "array([[ 0.4557103 ,  0.45818131,  0.41159704],\n",
       "       [ 1.30221101,  0.65412761, -1.09263046],\n",
       "       [ 0.80589831,  0.65915079,  0.40847844],\n",
       "       [-0.14459369,  0.22771958, -1.5518365 ],\n",
       "       [ 0.34921258, -0.87034721, -1.16525052],\n",
       "       [-0.40136817, -0.89270954, -1.19591621]])"
      ]
     },
     "execution_count": 79,
     "metadata": {},
     "output_type": "execute_result"
    }
   ],
   "source": [
    "arr = np.random.randn(6, 3)\n",
    "arr"
   ]
  },
  {
   "cell_type": "code",
   "execution_count": 80,
   "metadata": {},
   "outputs": [
    {
     "data": {
      "text/plain": [
       "array([[ 2.85685063,  1.6132608 , -0.608606  ],\n",
       "       [ 1.6132608 ,  2.67858361,  1.47151   ],\n",
       "       [-0.608606  ,  1.47151   ,  6.72632896]])"
      ]
     },
     "execution_count": 80,
     "metadata": {},
     "output_type": "execute_result"
    }
   ],
   "source": [
    "np.dot(arr.T, arr)"
   ]
  },
  {
   "cell_type": "markdown",
   "metadata": {},
   "source": [
    "上のように、NumPyのdot関数で内積を行うようなときに頻繁に転置行列を用いる"
   ]
  },
  {
   "cell_type": "code",
   "execution_count": 81,
   "metadata": {},
   "outputs": [
    {
     "data": {
      "text/plain": [
       "array([[[ 0,  1,  2,  3],\n",
       "        [ 4,  5,  6,  7]],\n",
       "\n",
       "       [[ 8,  9, 10, 11],\n",
       "        [12, 13, 14, 15]]])"
      ]
     },
     "execution_count": 81,
     "metadata": {},
     "output_type": "execute_result"
    }
   ],
   "source": [
    "arr = np.arange(16).reshape((2, 2, 4))\n",
    "arr"
   ]
  },
  {
   "cell_type": "code",
   "execution_count": 82,
   "metadata": {},
   "outputs": [
    {
     "data": {
      "text/plain": [
       "array([[[ 0,  1,  2,  3],\n",
       "        [ 8,  9, 10, 11]],\n",
       "\n",
       "       [[ 4,  5,  6,  7],\n",
       "        [12, 13, 14, 15]]])"
      ]
     },
     "execution_count": 82,
     "metadata": {},
     "output_type": "execute_result"
    }
   ],
   "source": [
    "arr.transpose((1, 0, 2))"
   ]
  },
  {
   "cell_type": "markdown",
   "metadata": {},
   "source": [
    "高次元配列の場合、transposeメソッドの引数に軸の順序を与えることでその順番に入れ替えることができる(0から順番に指定)  \n",
    "上の場合2つめの次元の要素を各先頭に持ってきて、2番目に最初の次元、3番目に最後の次元を持ってきている"
   ]
  },
  {
   "cell_type": "code",
   "execution_count": 83,
   "metadata": {},
   "outputs": [
    {
     "data": {
      "text/plain": [
       "array([[[ 0,  1,  2,  3],\n",
       "        [ 4,  5,  6,  7]],\n",
       "\n",
       "       [[ 8,  9, 10, 11],\n",
       "        [12, 13, 14, 15]]])"
      ]
     },
     "execution_count": 83,
     "metadata": {},
     "output_type": "execute_result"
    }
   ],
   "source": [
    "arr"
   ]
  },
  {
   "cell_type": "code",
   "execution_count": 84,
   "metadata": {},
   "outputs": [
    {
     "data": {
      "text/plain": [
       "array([[[ 0,  4],\n",
       "        [ 1,  5],\n",
       "        [ 2,  6],\n",
       "        [ 3,  7]],\n",
       "\n",
       "       [[ 8, 12],\n",
       "        [ 9, 13],\n",
       "        [10, 14],\n",
       "        [11, 15]]])"
      ]
     },
     "execution_count": 84,
     "metadata": {},
     "output_type": "execute_result"
    }
   ],
   "source": [
    "arr.swapaxes(1, 2)"
   ]
  },
  {
   "cell_type": "code",
   "execution_count": 85,
   "metadata": {},
   "outputs": [
    {
     "data": {
      "text/plain": [
       "array([[[ 0,  4],\n",
       "        [ 1,  5],\n",
       "        [ 2,  6],\n",
       "        [ 3,  7]],\n",
       "\n",
       "       [[ 8, 12],\n",
       "        [ 9, 13],\n",
       "        [10, 14],\n",
       "        [11, 15]]])"
      ]
     },
     "execution_count": 85,
     "metadata": {},
     "output_type": "execute_result"
    }
   ],
   "source": [
    "arr.transpose(0, 2, 1)"
   ]
  },
  {
   "cell_type": "markdown",
   "metadata": {},
   "source": [
    "ndarrayのT属性で得られる転置行列は軸入れ替えの特別ケースで、swapaxesはこれを一般化し、任意の軸順序を転置できる  \n",
    "上の場合だと2番目の次元と3番目の次元を入れ替えて(2, 4, 2)の並びにしている"
   ]
  },
  {
   "cell_type": "markdown",
   "metadata": {},
   "source": [
    "# 4.2  ユニバーサル関数:すべての配列要素への関数適用"
   ]
  },
  {
   "cell_type": "markdown",
   "metadata": {},
   "source": [
    "ユニバーサル関数(ufunc)はndarrayを対象に、要素ごとの操作結果を戻す関数になる  \n",
    "これはスカラーを引数に指定してスカラーを戻すような関数をベクトル対応し、ndarrayを引数に指定してndarrayを高速に戻すように拡張したものととらえることができる  \n",
    "多くのufuncは要素ごとの基本的な計算処理を提供する  "
   ]
  },
  {
   "cell_type": "code",
   "execution_count": 86,
   "metadata": {},
   "outputs": [
    {
     "data": {
      "text/plain": [
       "array([0, 1, 2, 3, 4, 5, 6, 7, 8, 9])"
      ]
     },
     "execution_count": 86,
     "metadata": {},
     "output_type": "execute_result"
    }
   ],
   "source": [
    "arr = np.arange(10)\n",
    "arr"
   ]
  },
  {
   "cell_type": "code",
   "execution_count": 87,
   "metadata": {},
   "outputs": [
    {
     "data": {
      "text/plain": [
       "array([0.        , 1.        , 1.41421356, 1.73205081, 2.        ,\n",
       "       2.23606798, 2.44948974, 2.64575131, 2.82842712, 3.        ])"
      ]
     },
     "execution_count": 87,
     "metadata": {},
     "output_type": "execute_result"
    }
   ],
   "source": [
    "np.sqrt(arr) # 平方根"
   ]
  },
  {
   "cell_type": "code",
   "execution_count": 88,
   "metadata": {},
   "outputs": [
    {
     "data": {
      "text/plain": [
       "array([1.00000000e+00, 2.71828183e+00, 7.38905610e+00, 2.00855369e+01,\n",
       "       5.45981500e+01, 1.48413159e+02, 4.03428793e+02, 1.09663316e+03,\n",
       "       2.98095799e+03, 8.10308393e+03])"
      ]
     },
     "execution_count": 88,
     "metadata": {},
     "output_type": "execute_result"
    }
   ],
   "source": [
    "np.exp(arr) # 自然対数(約2.7)のarrの要素乗"
   ]
  },
  {
   "cell_type": "markdown",
   "metadata": {},
   "source": [
    "上のsqrt関数とexp関数は1つのndarrayを取り、計算したndarrayを返すことから単項ufuncと呼ばれる"
   ]
  },
  {
   "cell_type": "code",
   "execution_count": 89,
   "metadata": {},
   "outputs": [
    {
     "data": {
      "text/plain": [
       "array([ 0.00389774, -0.03895527, -1.25227413,  0.62732892,  0.35074943,\n",
       "       -0.0309229 ,  0.72567936, -0.46674374])"
      ]
     },
     "execution_count": 89,
     "metadata": {},
     "output_type": "execute_result"
    }
   ],
   "source": [
    "x = np.random.randn(8)\n",
    "x"
   ]
  },
  {
   "cell_type": "code",
   "execution_count": 90,
   "metadata": {},
   "outputs": [
    {
     "data": {
      "text/plain": [
       "array([-0.58175545,  0.51964868,  1.68243117, -0.8681078 , -0.07053965,\n",
       "        1.04356024, -1.7251986 , -0.60298224])"
      ]
     },
     "execution_count": 90,
     "metadata": {},
     "output_type": "execute_result"
    }
   ],
   "source": [
    "y = np.random.randn(8)\n",
    "y"
   ]
  },
  {
   "cell_type": "code",
   "execution_count": 91,
   "metadata": {},
   "outputs": [
    {
     "data": {
      "text/plain": [
       "array([ 0.00389774,  0.51964868,  1.68243117,  0.62732892,  0.35074943,\n",
       "        1.04356024,  0.72567936, -0.46674374])"
      ]
     },
     "execution_count": 91,
     "metadata": {},
     "output_type": "execute_result"
    }
   ],
   "source": [
    "np.maximum(x, y)"
   ]
  },
  {
   "cell_type": "code",
   "execution_count": 92,
   "metadata": {},
   "outputs": [
    {
     "data": {
      "text/plain": [
       "array([-0.57785771,  0.48069341,  0.43015704, -0.24077887,  0.28020978,\n",
       "        1.01263734, -0.99951924, -1.06972599])"
      ]
     },
     "execution_count": 92,
     "metadata": {},
     "output_type": "execute_result"
    }
   ],
   "source": [
    "np.add(x, y)"
   ]
  },
  {
   "cell_type": "markdown",
   "metadata": {},
   "source": [
    "上のようなmaximum関数やadd関数などは2つのndarrayを取り、計算した1つのmdarrayを返すことから二項ufuncと呼ばれる"
   ]
  },
  {
   "cell_type": "code",
   "execution_count": 93,
   "metadata": {},
   "outputs": [
    {
     "data": {
      "text/plain": [
       "array([ 1.06413073,  0.22927286, -1.96290007,  2.98757015,  9.51964021,\n",
       "        2.33037435, -1.13269437])"
      ]
     },
     "execution_count": 93,
     "metadata": {},
     "output_type": "execute_result"
    }
   ],
   "source": [
    "arr = np.random.randn(7) * 5\n",
    "arr"
   ]
  },
  {
   "cell_type": "code",
   "execution_count": 94,
   "metadata": {},
   "outputs": [],
   "source": [
    "remainder, whole_part = np.modf(arr) # 整数部分と小数点部分に分ける"
   ]
  },
  {
   "cell_type": "code",
   "execution_count": 95,
   "metadata": {},
   "outputs": [
    {
     "data": {
      "text/plain": [
       "array([ 0.06413073,  0.22927286, -0.96290007,  0.98757015,  0.51964021,\n",
       "        0.33037435, -0.13269437])"
      ]
     },
     "execution_count": 95,
     "metadata": {},
     "output_type": "execute_result"
    }
   ],
   "source": [
    "remainder"
   ]
  },
  {
   "cell_type": "code",
   "execution_count": 96,
   "metadata": {},
   "outputs": [
    {
     "data": {
      "text/plain": [
       "array([ 1.,  0., -1.,  2.,  9.,  2., -1.])"
      ]
     },
     "execution_count": 96,
     "metadata": {},
     "output_type": "execute_result"
    }
   ],
   "source": [
    "whole_part"
   ]
  },
  {
   "cell_type": "markdown",
   "metadata": {},
   "source": [
    "珍しいufuncとして複数のndarrayを返すものがある  \n",
    "modf関数はそのうちのひとつで、組み込み関数のdivmodと同じ処理を全ての要素に適用する  "
   ]
  },
  {
   "cell_type": "code",
   "execution_count": 97,
   "metadata": {},
   "outputs": [
    {
     "data": {
      "text/plain": [
       "array([ 1.06413073,  0.22927286, -1.96290007,  2.98757015,  9.51964021,\n",
       "        2.33037435, -1.13269437])"
      ]
     },
     "execution_count": 97,
     "metadata": {},
     "output_type": "execute_result"
    }
   ],
   "source": [
    "arr"
   ]
  },
  {
   "cell_type": "code",
   "execution_count": 98,
   "metadata": {},
   "outputs": [
    {
     "name": "stderr",
     "output_type": "stream",
     "text": [
      "C:\\Users\\kumak\\anaconda3\\lib\\site-packages\\ipykernel_launcher.py:1: RuntimeWarning: invalid value encountered in sqrt\n",
      "  \"\"\"Entry point for launching an IPython kernel.\n"
     ]
    },
    {
     "data": {
      "text/plain": [
       "array([1.03156713, 0.47882446,        nan, 1.72845889, 3.08539142,\n",
       "       1.52655637,        nan])"
      ]
     },
     "execution_count": 98,
     "metadata": {},
     "output_type": "execute_result"
    }
   ],
   "source": [
    "np.sqrt(arr, out=arr)"
   ]
  },
  {
   "cell_type": "code",
   "execution_count": 99,
   "metadata": {},
   "outputs": [
    {
     "data": {
      "text/plain": [
       "array([1.03156713, 0.47882446,        nan, 1.72845889, 3.08539142,\n",
       "       1.52655637,        nan])"
      ]
     },
     "execution_count": 99,
     "metadata": {},
     "output_type": "execute_result"
    }
   ],
   "source": [
    "arr"
   ]
  },
  {
   "cell_type": "markdown",
   "metadata": {},
   "source": [
    "ufuncにはout引数を渡すことができ、これにndarrayを渡すことでビューではなく直接変更できる"
   ]
  },
  {
   "cell_type": "markdown",
   "metadata": {},
   "source": [
    "ufuncの一覧\n",
    "\n",
    "単項ufunc\n",
    "\n",
    "|関数|説明|\n",
    "|:-|:-|\n",
    "|abs, fabs|各要素の整数、小数、複素数の絶対値を計算する。fabsはabsの高速版で、対象を整数と小数に限定する|\n",
    "|sqrt|各要素の平方根を計算する(\\*\\*0.5)|\n",
    "|square|各要素の2乗を計算する(\\*\\*2)|\n",
    "|exp|各要素を指数として自然対数の底e(約2.7)のべき乗(eのx乗)を計算する|各要素を指数として自然対数の底e(約2.7)のべき乗(eのx乗)を計算する|\n",
    "|log, log10, log2, log1p|各要素を真数とし、logは底eの自然対数を、log10は底10の常用対数を、log2は底2の対数を計算する。log1pは各要素に1を加えた数を真数として底eの自然対数を計算する|\n",
    "|sign|各要素の符号を返す。正は1、ゼロは0、負は-1になる|\n",
    "|ceil|各要素の切り上げを計算する|\n",
    "|floor|各要素の切り捨てを計算する|\n",
    "|rint|各要素の四捨五入を計算する|\n",
    "|modf|要素ごとに整数部分と小数部分に分割して、それぞれの配列を返す|\n",
    "|isnan|要素ごとにNaNかどうかを判定した結果を返す|\n",
    "|isfinite, isinf|isfiniteは要素ごとに有限(infでもNaNない)かどうか、isinfは要素ごとに無限(inf)かどうかを判定した結果を返す|\n",
    "|cos, cosh, sin, sinh, tan, tanh|各要素の余弦、双曲線余弦、正弦、双曲線正弦、正接、双曲線正接を計算する|\n",
    "|arccos, arccosh, arcsin, arcsinh, arctan, arctanh|各要素の逆余弦、逆双曲線余弦、逆正弦、逆双曲線正弦、逆正接、逆双曲線正接を計算する|\n",
    "|logical_not|各要素の論理否定を返す(~arrと同じ)|\n",
    "\n",
    "二項ufunc\n",
    "\n",
    "|関数|説明|\n",
    "|:-|:-|\n",
    "|add|配列の要素ごとの和を取る|\n",
    "|subtract|1番目の配列から2番目の配列のそれぞれの要素の差を取る|\n",
    "|multiply|配列の要素ごとの積を取る|\n",
    "|divide, floor_divide|divideは配列の要素ごとの商を取る。floor_divideは商を取り、余りを切り捨てる|\n",
    "|power|1番目の配列要素を底とし、2番目の配列要素でべき乗する|\n",
    "|maximum, fmax|配列の要素ごとの最大値を計算する。要素がNaNの場合、maximumはNaNを返し、fmaxはNaNではない要素を返す|\n",
    "|minimum, fmin|配列の要素ごとの最小値を計算する。要素がNaNの場合、minimumはNaNを返し、fminはNaNではない要素を返す|\n",
    "|mod|配列の要素ごとの剰余を計算する|\n",
    "|copysign|1番目の配列要素の値に2番目の配列要素の符号をつける|\n",
    "|greater, greater_equal, less, less_equal, equal, not_equal|配列の要素ごとの比較結果を真偽値で格納した配列を返す。次の中置二項演算子と同じ>,>=,<,<=,==,!=|\n",
    "|logical_and, logical_or, logical_xor|配列の要素ごとに論理演算する。次の中置二項演算子と同じ&,|,^|"
   ]
  },
  {
   "cell_type": "markdown",
   "metadata": {},
   "source": [
    "# 4.3  ndarrayによる配列指向プログラミング"
   ]
  },
  {
   "cell_type": "markdown",
   "metadata": {},
   "source": [
    "ndarrayを用いると、多様なデータ処理タスクを簡潔な配列表現で記述できる  \n",
    "このためループ処理を書く必要がなく、この配列表現のことをベクトル演算と呼ぶ  \n",
    "ベクトル演算はPython標準環境と比較して大変高速であり、あらゆる数値計算処理に有利になる  "
   ]
  },
  {
   "cell_type": "markdown",
   "metadata": {},
   "source": [
    "与えられた格子点状のデータに対して、関数sqrt(x^2 + y^2)を評価することを例として考えてみる  "
   ]
  },
  {
   "cell_type": "code",
   "execution_count": 100,
   "metadata": {},
   "outputs": [],
   "source": [
    "points = np.arange(-5, 5, 0.01) # 等間隔に配置された1,000個の格子点"
   ]
  },
  {
   "cell_type": "code",
   "execution_count": 101,
   "metadata": {},
   "outputs": [],
   "source": [
    "xs, ys = np.meshgrid(points, points)"
   ]
  },
  {
   "cell_type": "code",
   "execution_count": 102,
   "metadata": {},
   "outputs": [
    {
     "data": {
      "text/plain": [
       "array([[-5.  , -4.99, -4.98, ...,  4.97,  4.98,  4.99],\n",
       "       [-5.  , -4.99, -4.98, ...,  4.97,  4.98,  4.99],\n",
       "       [-5.  , -4.99, -4.98, ...,  4.97,  4.98,  4.99],\n",
       "       ...,\n",
       "       [-5.  , -4.99, -4.98, ...,  4.97,  4.98,  4.99],\n",
       "       [-5.  , -4.99, -4.98, ...,  4.97,  4.98,  4.99],\n",
       "       [-5.  , -4.99, -4.98, ...,  4.97,  4.98,  4.99]])"
      ]
     },
     "execution_count": 102,
     "metadata": {},
     "output_type": "execute_result"
    }
   ],
   "source": [
    "xs"
   ]
  },
  {
   "cell_type": "code",
   "execution_count": 103,
   "metadata": {},
   "outputs": [
    {
     "data": {
      "text/plain": [
       "array([[-5.  , -5.  , -5.  , ..., -5.  , -5.  , -5.  ],\n",
       "       [-4.99, -4.99, -4.99, ..., -4.99, -4.99, -4.99],\n",
       "       [-4.98, -4.98, -4.98, ..., -4.98, -4.98, -4.98],\n",
       "       ...,\n",
       "       [ 4.97,  4.97,  4.97, ...,  4.97,  4.97,  4.97],\n",
       "       [ 4.98,  4.98,  4.98, ...,  4.98,  4.98,  4.98],\n",
       "       [ 4.99,  4.99,  4.99, ...,  4.99,  4.99,  4.99]])"
      ]
     },
     "execution_count": 103,
     "metadata": {},
     "output_type": "execute_result"
    }
   ],
   "source": [
    "ys"
   ]
  },
  {
   "cell_type": "code",
   "execution_count": 104,
   "metadata": {},
   "outputs": [
    {
     "data": {
      "text/plain": [
       "(1000, 1000)"
      ]
     },
     "execution_count": 104,
     "metadata": {},
     "output_type": "execute_result"
    }
   ],
   "source": [
    "ys.shape"
   ]
  },
  {
   "cell_type": "markdown",
   "metadata": {},
   "source": [
    "格子点データを用意するのにnp.meshgridを用いている  \n",
    "meshgrid関数は2つの1次元配列を取り、それぞれの要素のすべての組み合わせを列挙する"
   ]
  },
  {
   "cell_type": "code",
   "execution_count": 105,
   "metadata": {},
   "outputs": [
    {
     "data": {
      "text/plain": [
       "array([[7.07106781, 7.06400028, 7.05693985, ..., 7.04988652, 7.05693985,\n",
       "        7.06400028],\n",
       "       [7.06400028, 7.05692568, 7.04985815, ..., 7.04279774, 7.04985815,\n",
       "        7.05692568],\n",
       "       [7.05693985, 7.04985815, 7.04278354, ..., 7.03571603, 7.04278354,\n",
       "        7.04985815],\n",
       "       ...,\n",
       "       [7.04988652, 7.04279774, 7.03571603, ..., 7.0286414 , 7.03571603,\n",
       "        7.04279774],\n",
       "       [7.05693985, 7.04985815, 7.04278354, ..., 7.03571603, 7.04278354,\n",
       "        7.04985815],\n",
       "       [7.06400028, 7.05692568, 7.04985815, ..., 7.04279774, 7.04985815,\n",
       "        7.05692568]])"
      ]
     },
     "execution_count": 105,
     "metadata": {},
     "output_type": "execute_result"
    }
   ],
   "source": [
    "z = np.sqrt(xs ** 2 + ys ** 2)\n",
    "z"
   ]
  },
  {
   "cell_type": "markdown",
   "metadata": {},
   "source": [
    "2つの格子点データを組み合わせて(xs ** 2 + ys ** 2)の値の平方根(sqrt)を要素ごとに計算していく  "
   ]
  },
  {
   "cell_type": "code",
   "execution_count": 106,
   "metadata": {},
   "outputs": [],
   "source": [
    "import matplotlib.pyplot as plt"
   ]
  },
  {
   "cell_type": "code",
   "execution_count": 107,
   "metadata": {},
   "outputs": [
    {
     "data": {
      "text/plain": [
       "Text(0.5, 1.0, 'Image plot of $\\\\sqrt{x^2 + y^2}$ for a grid of values')"
      ]
     },
     "execution_count": 107,
     "metadata": {},
     "output_type": "execute_result"
    },
    {
     "data": {
      "image/png": "[encoded data removed]",
      "text/plain": [
       "<Figure size 432x288 with 2 Axes>"
      ]
     },
     "metadata": {
      "needs_background": "light"
     },
     "output_type": "display_data"
    }
   ],
   "source": [
    "plt.imshow(z, cmap=plt.cm.gray); plt.colorbar()\n",
    "plt.title(\"Image plot of $\\sqrt{x^2 + y^2}$ for a grid of values\")"
   ]
  },
  {
   "cell_type": "markdown",
   "metadata": {},
   "source": [
    "Matplotlibのimshow関数を用いて2次元配列を可視化してみると上のようになる"
   ]
  },
  {
   "cell_type": "markdown",
   "metadata": {},
   "source": [
    "## 4.3.1  条件制御のndarrayでの表現"
   ]
  },
  {
   "cell_type": "code",
   "execution_count": 108,
   "metadata": {},
   "outputs": [],
   "source": [
    "xarr = np.array([1.1, 1.2, 1.3, 1.4, 1.5])\n",
    "yarr = np.array([2.1, 2.2, 2.3, 2.4, 2.5])\n",
    "cond = np.array([True, False, True, True, False])"
   ]
  },
  {
   "cell_type": "markdown",
   "metadata": {},
   "source": [
    "上のような3つの1次元配列があったとする  \n",
    "この時に、condの要素がTrueであればxarrの要素を取り、Falseであればyarrの要素を取るようにしたい"
   ]
  },
  {
   "cell_type": "code",
   "execution_count": 109,
   "metadata": {},
   "outputs": [],
   "source": [
    "result = [(x * 3 if c else y * 3) for x, y, c in zip(xarr, yarr, cond)] # 計算がうまくいかないことを示すためにあえて3をかけてみた"
   ]
  },
  {
   "cell_type": "code",
   "execution_count": 110,
   "metadata": {},
   "outputs": [
    {
     "data": {
      "text/plain": [
       "[3.3000000000000003,\n",
       " 6.6000000000000005,\n",
       " 3.9000000000000004,\n",
       " 4.199999999999999,\n",
       " 7.5]"
      ]
     },
     "execution_count": 110,
     "metadata": {},
     "output_type": "execute_result"
    }
   ],
   "source": [
    "result"
   ]
  },
  {
   "cell_type": "markdown",
   "metadata": {},
   "source": [
    "上のようにPython標準機能のリスト内包表記を使って書き下ろすことはできるが、いろいろと問題が起きてしまう  \n",
    "まずPython標準の機能だと対象の配列が多くなると処理に時間がかかってしまうこと  \n",
    "次に多次元配列に対応することができないことが挙げられる"
   ]
  },
  {
   "cell_type": "code",
   "execution_count": 111,
   "metadata": {},
   "outputs": [
    {
     "data": {
      "text/plain": [
       "array([3.3, 6.6, 3.9, 4.2, 7.5])"
      ]
     },
     "execution_count": 111,
     "metadata": {},
     "output_type": "execute_result"
    }
   ],
   "source": [
    "result = np.where(cond, xarr, yarr) * 3\n",
    "result"
   ]
  },
  {
   "cell_type": "markdown",
   "metadata": {},
   "source": [
    "NumPyのwhere関数を使うことで先程の問題を解消できるうえに簡単に条件制御を行える  \n",
    "使い方としては、where関数の第一引数に条件の評価配列、第二引数にTrueの場合に使用する配列、第三引数にFalseの場合に使用する配列を渡すだけになる  "
   ]
  },
  {
   "cell_type": "code",
   "execution_count": 112,
   "metadata": {},
   "outputs": [
    {
     "data": {
      "text/plain": [
       "array([[-1.32043687e+00, -2.53205731e-04,  9.67248004e-01,\n",
       "        -1.02975060e+00],\n",
       "       [-2.41410708e-01, -2.01413543e+00,  1.64451975e-01,\n",
       "         4.48363722e-01],\n",
       "       [-1.09089272e+00, -3.14431319e-01,  7.16844252e-01,\n",
       "         1.24248449e+00],\n",
       "       [ 1.34187103e+00,  4.06986705e-01, -5.63032549e-03,\n",
       "         2.93519657e-01]])"
      ]
     },
     "execution_count": 112,
     "metadata": {},
     "output_type": "execute_result"
    }
   ],
   "source": [
    "arr = np.random.randn(4, 4)\n",
    "arr"
   ]
  },
  {
   "cell_type": "code",
   "execution_count": 113,
   "metadata": {},
   "outputs": [
    {
     "data": {
      "text/plain": [
       "array([[False, False,  True, False],\n",
       "       [False, False,  True,  True],\n",
       "       [False, False,  True,  True],\n",
       "       [ True,  True, False,  True]])"
      ]
     },
     "execution_count": 113,
     "metadata": {},
     "output_type": "execute_result"
    }
   ],
   "source": [
    "arr > 0"
   ]
  },
  {
   "cell_type": "code",
   "execution_count": 114,
   "metadata": {},
   "outputs": [
    {
     "data": {
      "text/plain": [
       "array([[-2, -2,  2, -2],\n",
       "       [-2, -2,  2,  2],\n",
       "       [-2, -2,  2,  2],\n",
       "       [ 2,  2, -2,  2]])"
      ]
     },
     "execution_count": 114,
     "metadata": {},
     "output_type": "execute_result"
    }
   ],
   "source": [
    "np.where(arr > 0, 2, -2)"
   ]
  },
  {
   "cell_type": "markdown",
   "metadata": {},
   "source": [
    "where関数の第二と第三引数には配列ではなくスカラー値を渡すこともできる  \n",
    "上の場合だと正の数か負の数かで評価配列を作り、正であれば2、負であれば-2とする配列を作成している  "
   ]
  },
  {
   "cell_type": "code",
   "execution_count": 115,
   "metadata": {},
   "outputs": [
    {
     "data": {
      "text/plain": [
       "array([[-1.32043687e+00, -2.53205731e-04,  2.00000000e+00,\n",
       "        -1.02975060e+00],\n",
       "       [-2.41410708e-01, -2.01413543e+00,  2.00000000e+00,\n",
       "         2.00000000e+00],\n",
       "       [-1.09089272e+00, -3.14431319e-01,  2.00000000e+00,\n",
       "         2.00000000e+00],\n",
       "       [ 2.00000000e+00,  2.00000000e+00, -5.63032549e-03,\n",
       "         2.00000000e+00]])"
      ]
     },
     "execution_count": 115,
     "metadata": {},
     "output_type": "execute_result"
    }
   ],
   "source": [
    "np.where(arr > 0, 2, arr)"
   ]
  },
  {
   "cell_type": "markdown",
   "metadata": {},
   "source": [
    "上のようにwhere関数を呼び出すときにスカラー値とndarrayを組み合わせることもできる"
   ]
  },
  {
   "cell_type": "markdown",
   "metadata": {},
   "source": [
    "## 4.3.2  数学関数、統計関数"
   ]
  },
  {
   "cell_type": "markdown",
   "metadata": {},
   "source": [
    "NumPyの統計関数は、ndarray配列全体、あるいは特定の軸を中心とした統計処理を行うことができる  \n",
    "sumやmeanといった集計処理(次元削減とも呼ばれる)や標準偏差を求めるstdなどを、ndarrayのメソッドとして呼び出したり、NumPyの関数として呼び出したりして使用することができる"
   ]
  },
  {
   "cell_type": "code",
   "execution_count": 116,
   "metadata": {},
   "outputs": [
    {
     "data": {
      "text/plain": [
       "array([[-0.92406253,  0.78559207, -0.05113447,  0.14765161],\n",
       "       [ 1.53457374,  0.03975111,  0.78162185,  0.00380799],\n",
       "       [-0.73981834,  1.49455774,  0.47051625, -1.02592673],\n",
       "       [-0.24885014,  0.86146064, -1.94184839, -0.85583253],\n",
       "       [-1.21356741,  0.18912428,  0.04549764,  0.32864709]])"
      ]
     },
     "execution_count": 116,
     "metadata": {},
     "output_type": "execute_result"
    }
   ],
   "source": [
    "arr = np.random.randn(5, 4)\n",
    "arr"
   ]
  },
  {
   "cell_type": "code",
   "execution_count": 117,
   "metadata": {},
   "outputs": [
    {
     "data": {
      "text/plain": [
       "-0.01591192778571999"
      ]
     },
     "execution_count": 117,
     "metadata": {},
     "output_type": "execute_result"
    }
   ],
   "source": [
    "arr.mean()"
   ]
  },
  {
   "cell_type": "code",
   "execution_count": 118,
   "metadata": {},
   "outputs": [
    {
     "data": {
      "text/plain": [
       "-0.01591192778571999"
      ]
     },
     "execution_count": 118,
     "metadata": {},
     "output_type": "execute_result"
    }
   ],
   "source": [
    "np.mean(arr)"
   ]
  },
  {
   "cell_type": "markdown",
   "metadata": {},
   "source": [
    "上では正規分布からランダムデータを生成し、ndarrayのメソッドを利用した方法と、NumPyの関数を利用した方法の2種類で平均を求めている"
   ]
  },
  {
   "cell_type": "code",
   "execution_count": 119,
   "metadata": {},
   "outputs": [
    {
     "data": {
      "text/plain": [
       "array([-0.01048833,  0.58993867,  0.04983223, -0.54626761, -0.1625746 ])"
      ]
     },
     "execution_count": 119,
     "metadata": {},
     "output_type": "execute_result"
    }
   ],
   "source": [
    "arr.mean(axis=1)"
   ]
  },
  {
   "cell_type": "code",
   "execution_count": 120,
   "metadata": {},
   "outputs": [
    {
     "data": {
      "text/plain": [
       "array([-1.59172469,  3.37048584, -0.69534713, -1.40165258])"
      ]
     },
     "execution_count": 120,
     "metadata": {},
     "output_type": "execute_result"
    }
   ],
   "source": [
    "arr.sum(axis=0)"
   ]
  },
  {
   "cell_type": "markdown",
   "metadata": {},
   "source": [
    "meanやsumなどは、どの軸を対象にして計算するかをキーワード引数のaxisを使用して指定することができる  \n",
    "渡した引数が0なら列ごとに計算し、渡した引数が1なら行ごとに計算してくれる  "
   ]
  },
  {
   "cell_type": "code",
   "execution_count": 121,
   "metadata": {},
   "outputs": [
    {
     "data": {
      "text/plain": [
       "array([1, 2, 3, 4, 5, 6, 7, 8])"
      ]
     },
     "execution_count": 121,
     "metadata": {},
     "output_type": "execute_result"
    }
   ],
   "source": [
    "arr = np.arange(1, 9)\n",
    "arr"
   ]
  },
  {
   "cell_type": "code",
   "execution_count": 122,
   "metadata": {},
   "outputs": [
    {
     "data": {
      "text/plain": [
       "array([ 1,  3,  6, 10, 15, 21, 28, 36], dtype=int32)"
      ]
     },
     "execution_count": 122,
     "metadata": {},
     "output_type": "execute_result"
    }
   ],
   "source": [
    "arr.cumsum()"
   ]
  },
  {
   "cell_type": "code",
   "execution_count": 123,
   "metadata": {},
   "outputs": [
    {
     "data": {
      "text/plain": [
       "array([    1,     2,     6,    24,   120,   720,  5040, 40320],\n",
       "      dtype=int32)"
      ]
     },
     "execution_count": 123,
     "metadata": {},
     "output_type": "execute_result"
    }
   ],
   "source": [
    "arr.cumprod()"
   ]
  },
  {
   "cell_type": "markdown",
   "metadata": {},
   "source": [
    "集計処理以外にも、sumsum(累積和)やcumprod(累積積)といった関数もあり、集計結果のみを返すのではなく和や積の計算の途中経過を含めて返してくれる"
   ]
  },
  {
   "cell_type": "code",
   "execution_count": 124,
   "metadata": {},
   "outputs": [
    {
     "data": {
      "text/plain": [
       "array([[0, 1, 2],\n",
       "       [3, 4, 5],\n",
       "       [6, 7, 8]])"
      ]
     },
     "execution_count": 124,
     "metadata": {},
     "output_type": "execute_result"
    }
   ],
   "source": [
    "arr = np.arange(9).reshape(3, 3)\n",
    "arr"
   ]
  },
  {
   "cell_type": "code",
   "execution_count": 125,
   "metadata": {},
   "outputs": [
    {
     "data": {
      "text/plain": [
       "array([ 0,  1,  3,  6, 10, 15, 21, 28, 36], dtype=int32)"
      ]
     },
     "execution_count": 125,
     "metadata": {},
     "output_type": "execute_result"
    }
   ],
   "source": [
    "arr.cumsum()"
   ]
  },
  {
   "cell_type": "code",
   "execution_count": 126,
   "metadata": {},
   "outputs": [
    {
     "data": {
      "text/plain": [
       "array([[ 0,  1,  2],\n",
       "       [ 3,  5,  7],\n",
       "       [ 9, 12, 15]], dtype=int32)"
      ]
     },
     "execution_count": 126,
     "metadata": {},
     "output_type": "execute_result"
    }
   ],
   "source": [
    "arr.cumsum(axis=0)"
   ]
  },
  {
   "cell_type": "code",
   "execution_count": 127,
   "metadata": {},
   "outputs": [
    {
     "data": {
      "text/plain": [
       "array([[  0,   0,   0],\n",
       "       [  3,  12,  60],\n",
       "       [  6,  42, 336]], dtype=int32)"
      ]
     },
     "execution_count": 127,
     "metadata": {},
     "output_type": "execute_result"
    }
   ],
   "source": [
    "arr.cumprod(axis=1)"
   ]
  },
  {
   "cell_type": "markdown",
   "metadata": {},
   "source": [
    "多次元配列の場合、累積関数はそのままだと全ての要素をまとめて計算し1次元にして返す  \n",
    "しかしaxisで処理を行う行か列を指定することで、軸に沿って計算を行ってくれる"
   ]
  },
  {
   "cell_type": "markdown",
   "metadata": {},
   "source": [
    "基本的なndarrayの統計関数\n",
    "\n",
    "|関数|定義|\n",
    "|:-|:-|\n",
    "|sum|配列の和を指定された軸に沿って計算する。0の配列に対しては0を返す|\n",
    "|mean|配列の平均を計算する。0の配列にはNaNを返す|\n",
    "|std, var|標準偏差、分散。自由度のデフォルトはnで、任意の値を指定できる|\n",
    "|argmin, argmax|最小値を持つ要素のインデックス、最大値を持つ要素のインデックス|\n",
    "|cumsum, cumprod|累積和、累積積|"
   ]
  },
  {
   "cell_type": "markdown",
   "metadata": {},
   "source": [
    "## 4.3.3  真偽値配列関数"
   ]
  },
  {
   "cell_type": "code",
   "execution_count": 128,
   "metadata": {},
   "outputs": [],
   "source": [
    "arr = np.random.randn(100)"
   ]
  },
  {
   "cell_type": "code",
   "execution_count": 129,
   "metadata": {},
   "outputs": [
    {
     "data": {
      "text/plain": [
       "array([False, False,  True,  True, False, False,  True,  True,  True,\n",
       "        True, False,  True, False, False, False,  True, False, False,\n",
       "       False,  True,  True,  True, False,  True, False,  True,  True,\n",
       "        True,  True,  True,  True, False,  True, False,  True,  True,\n",
       "        True,  True,  True,  True, False, False,  True, False, False,\n",
       "       False, False, False, False,  True,  True, False,  True,  True,\n",
       "        True,  True,  True, False,  True,  True, False, False,  True,\n",
       "        True,  True, False,  True,  True, False,  True,  True,  True,\n",
       "       False, False, False, False, False, False, False, False,  True,\n",
       "        True,  True, False,  True,  True, False, False, False,  True,\n",
       "        True, False, False,  True, False,  True, False,  True,  True,\n",
       "        True])"
      ]
     },
     "execution_count": 129,
     "metadata": {},
     "output_type": "execute_result"
    }
   ],
   "source": [
    "arr > 0"
   ]
  },
  {
   "cell_type": "code",
   "execution_count": 130,
   "metadata": {},
   "outputs": [
    {
     "data": {
      "text/plain": [
       "55"
      ]
     },
     "execution_count": 130,
     "metadata": {},
     "output_type": "execute_result"
    }
   ],
   "source": [
    "(arr > 0).sum()"
   ]
  },
  {
   "cell_type": "markdown",
   "metadata": {},
   "source": [
    "真偽値に関数を適用する場合、Trueは1、Falseは0として扱われる  \n",
    "そのため、sumを用いて真偽値配列の中のTrueの数を数えることができる"
   ]
  },
  {
   "cell_type": "code",
   "execution_count": 131,
   "metadata": {},
   "outputs": [],
   "source": [
    "bools = np.array([False, False, True, False])"
   ]
  },
  {
   "cell_type": "code",
   "execution_count": 132,
   "metadata": {},
   "outputs": [
    {
     "data": {
      "text/plain": [
       "True"
      ]
     },
     "execution_count": 132,
     "metadata": {},
     "output_type": "execute_result"
    }
   ],
   "source": [
    "bools.any()"
   ]
  },
  {
   "cell_type": "code",
   "execution_count": 133,
   "metadata": {},
   "outputs": [
    {
     "data": {
      "text/plain": [
       "False"
      ]
     },
     "execution_count": 133,
     "metadata": {},
     "output_type": "execute_result"
    }
   ],
   "source": [
    "bools.all()"
   ]
  },
  {
   "cell_type": "markdown",
   "metadata": {},
   "source": [
    "ndarrayにはanyとallという2つのメソッド(もしくはNumPyの関数)があり、真偽値配列に適用する場合に便利なものになる  \n",
    "anyは要素に1つでもTrueがあればTrueを返し、allは要素のすべてがTrueの場合にTrueを返す  \n",
    "anyとallは真偽値以外の配列にも適用でき、その場合は0以外の値がTrueとしてみなされる"
   ]
  },
  {
   "cell_type": "markdown",
   "metadata": {},
   "source": [
    "## 4.3.4  ソート"
   ]
  },
  {
   "cell_type": "code",
   "execution_count": 134,
   "metadata": {},
   "outputs": [
    {
     "data": {
      "text/plain": [
       "array([-0.26408145,  0.43976413,  0.85698501,  0.84835738,  0.12577977,\n",
       "       -0.12176059])"
      ]
     },
     "execution_count": 134,
     "metadata": {},
     "output_type": "execute_result"
    }
   ],
   "source": [
    "arr = np.random.randn(6)\n",
    "arr"
   ]
  },
  {
   "cell_type": "code",
   "execution_count": 135,
   "metadata": {},
   "outputs": [
    {
     "data": {
      "text/plain": [
       "array([-0.26408145, -0.12176059,  0.12577977,  0.43976413,  0.84835738,\n",
       "        0.85698501])"
      ]
     },
     "execution_count": 135,
     "metadata": {},
     "output_type": "execute_result"
    }
   ],
   "source": [
    "arr.sort()\n",
    "arr"
   ]
  },
  {
   "cell_type": "markdown",
   "metadata": {},
   "source": [
    "Pythonのリスト同様に、NumPyのndarrayもsortメソッドで並び替えることができ、ndarrayを直接置換できる"
   ]
  },
  {
   "cell_type": "code",
   "execution_count": 136,
   "metadata": {},
   "outputs": [
    {
     "data": {
      "text/plain": [
       "array([[ 1.3800412 , -0.36983691, -0.62361248],\n",
       "       [-0.02973085, -1.00961579, -0.0664629 ],\n",
       "       [-1.05126118,  0.17501369,  0.45118593],\n",
       "       [-0.320785  ,  0.17978911,  0.26311542],\n",
       "       [ 1.41609841, -0.4402983 , -1.38706007]])"
      ]
     },
     "execution_count": 136,
     "metadata": {},
     "output_type": "execute_result"
    }
   ],
   "source": [
    "arr = np.random.randn(5, 3)\n",
    "arr"
   ]
  },
  {
   "cell_type": "code",
   "execution_count": 137,
   "metadata": {},
   "outputs": [
    {
     "data": {
      "text/plain": [
       "array([[-0.62361248, -0.36983691,  1.3800412 ],\n",
       "       [-1.00961579, -0.0664629 , -0.02973085],\n",
       "       [-1.05126118,  0.17501369,  0.45118593],\n",
       "       [-0.320785  ,  0.17978911,  0.26311542],\n",
       "       [-1.38706007, -0.4402983 ,  1.41609841]])"
      ]
     },
     "execution_count": 137,
     "metadata": {},
     "output_type": "execute_result"
    }
   ],
   "source": [
    "arr.sort(1)\n",
    "arr"
   ]
  },
  {
   "cell_type": "markdown",
   "metadata": {},
   "source": [
    "多次元配列をソートする場合、任意の軸に沿ってソートをすることができる  \n",
    "sortメソッドにソートする軸を指定する整数を渡すことでできる"
   ]
  },
  {
   "cell_type": "code",
   "execution_count": 138,
   "metadata": {},
   "outputs": [
    {
     "data": {
      "text/plain": [
       "-1.6700391146381555"
      ]
     },
     "execution_count": 138,
     "metadata": {},
     "output_type": "execute_result"
    }
   ],
   "source": [
    "large_arr = np.random.randn(1000)\n",
    "large_arr.sort()\n",
    "large_arr[int(0.05 * len(large_arr))] # 5% 分位点"
   ]
  },
  {
   "cell_type": "code",
   "execution_count": 139,
   "metadata": {},
   "outputs": [
    {
     "data": {
      "text/plain": [
       "array([-2.96970866e+00, -2.84590528e+00, -2.74585404e+00, -2.70673260e+00,\n",
       "       -2.59544792e+00, -2.49441161e+00, -2.46176429e+00, -2.45921652e+00,\n",
       "       -2.45388701e+00, -2.38655686e+00, -2.36804731e+00, -2.29291753e+00,\n",
       "       -2.27523138e+00, -2.26405426e+00, -2.20103200e+00, -2.17562188e+00,\n",
       "       -2.16788006e+00, -2.16356183e+00, -2.12211207e+00, -2.10685408e+00,\n",
       "       -2.08660540e+00, -2.08020280e+00, -2.04365356e+00, -2.03567602e+00,\n",
       "       -2.00537440e+00, -1.97282524e+00, -1.93081990e+00, -1.90239412e+00,\n",
       "       -1.89743699e+00, -1.88122646e+00, -1.87814000e+00, -1.87210062e+00,\n",
       "       -1.81516157e+00, -1.80497246e+00, -1.80140353e+00, -1.79605265e+00,\n",
       "       -1.78887158e+00, -1.77449125e+00, -1.77442623e+00, -1.76322458e+00,\n",
       "       -1.75293814e+00, -1.75200066e+00, -1.74889582e+00, -1.74713294e+00,\n",
       "       -1.71885944e+00, -1.70059664e+00, -1.69821808e+00, -1.69206501e+00,\n",
       "       -1.68704219e+00, -1.67850532e+00, -1.67003911e+00, -1.66175562e+00,\n",
       "       -1.65854999e+00, -1.63853276e+00, -1.63659269e+00, -1.63653515e+00,\n",
       "       -1.63496005e+00, -1.61154697e+00, -1.58826775e+00, -1.58604762e+00,\n",
       "       -1.58362038e+00, -1.57648437e+00, -1.57361134e+00, -1.55418835e+00,\n",
       "       -1.55199527e+00, -1.54767320e+00, -1.53924349e+00, -1.51833081e+00,\n",
       "       -1.51039009e+00, -1.48005756e+00, -1.47345096e+00, -1.46605074e+00,\n",
       "       -1.45639759e+00, -1.45632041e+00, -1.45495320e+00, -1.45392111e+00,\n",
       "       -1.45003363e+00, -1.44487322e+00, -1.42107670e+00, -1.41613827e+00,\n",
       "       -1.41479098e+00, -1.41312965e+00, -1.40749520e+00, -1.39958370e+00,\n",
       "       -1.39668934e+00, -1.39136932e+00, -1.39047800e+00, -1.37830896e+00,\n",
       "       -1.37526114e+00, -1.35478599e+00, -1.35419169e+00, -1.34984262e+00,\n",
       "       -1.34879876e+00, -1.34506788e+00, -1.34414323e+00, -1.34209468e+00,\n",
       "       -1.33081606e+00, -1.32806771e+00, -1.32792370e+00, -1.32781322e+00,\n",
       "       -1.32559748e+00, -1.31014340e+00, -1.29007186e+00, -1.26751750e+00,\n",
       "       -1.25616056e+00, -1.24593306e+00, -1.23403651e+00, -1.23378882e+00,\n",
       "       -1.23179651e+00, -1.22271373e+00, -1.21689973e+00, -1.21307723e+00,\n",
       "       -1.20438417e+00, -1.20348237e+00, -1.20266574e+00, -1.19699402e+00,\n",
       "       -1.19670356e+00, -1.19539024e+00, -1.19423634e+00, -1.19241059e+00,\n",
       "       -1.19050295e+00, -1.18901356e+00, -1.18817002e+00, -1.18782881e+00,\n",
       "       -1.18527916e+00, -1.17732200e+00, -1.17330494e+00, -1.16952221e+00,\n",
       "       -1.16013247e+00, -1.15920257e+00, -1.15775864e+00, -1.14679041e+00,\n",
       "       -1.14345774e+00, -1.13890604e+00, -1.13839591e+00, -1.13596239e+00,\n",
       "       -1.13555821e+00, -1.13479319e+00, -1.11394254e+00, -1.10811387e+00,\n",
       "       -1.10774965e+00, -1.10707331e+00, -1.09932864e+00, -1.08683401e+00,\n",
       "       -1.08309332e+00, -1.07710273e+00, -1.07365149e+00, -1.06853757e+00,\n",
       "       -1.05702934e+00, -1.05479957e+00, -1.04827000e+00, -1.04022361e+00,\n",
       "       -1.04012001e+00, -1.03838461e+00, -1.03586520e+00, -1.03502076e+00,\n",
       "       -1.03190960e+00, -1.02473494e+00, -1.02232997e+00, -1.02156140e+00,\n",
       "       -1.02030357e+00, -1.01491993e+00, -1.00712096e+00, -1.00399398e+00,\n",
       "       -9.99793201e-01, -9.98799722e-01, -9.91212287e-01, -9.82136480e-01,\n",
       "       -9.81879635e-01, -9.70412720e-01, -9.68465665e-01, -9.66987172e-01,\n",
       "       -9.53915793e-01, -9.51812608e-01, -9.50707779e-01, -9.50014404e-01,\n",
       "       -9.42440571e-01, -9.41742394e-01, -9.38257011e-01, -9.35401349e-01,\n",
       "       -9.34935672e-01, -9.34629712e-01, -9.33567857e-01, -9.17296995e-01,\n",
       "       -9.11219067e-01, -9.09594661e-01, -9.07146855e-01, -9.06208057e-01,\n",
       "       -8.99902132e-01, -8.85433545e-01, -8.85325250e-01, -8.77834023e-01,\n",
       "       -8.72918053e-01, -8.72690566e-01, -8.71644962e-01, -8.71507374e-01,\n",
       "       -8.67079313e-01, -8.61884584e-01, -8.59967188e-01, -8.59665244e-01,\n",
       "       -8.49434100e-01, -8.45832310e-01, -8.41759804e-01, -8.41437563e-01,\n",
       "       -8.38163150e-01, -8.35906742e-01, -8.32794640e-01, -8.27150964e-01,\n",
       "       -8.17515564e-01, -8.12092932e-01, -8.07439962e-01, -8.07369282e-01,\n",
       "       -8.07322805e-01, -8.06476054e-01, -8.05361452e-01, -8.02529912e-01,\n",
       "       -8.01073062e-01, -8.00029057e-01, -7.97547353e-01, -7.96064848e-01,\n",
       "       -7.95452414e-01, -7.85546911e-01, -7.84864405e-01, -7.84813870e-01,\n",
       "       -7.83815944e-01, -7.79018570e-01, -7.77943300e-01, -7.77211248e-01,\n",
       "       -7.76270936e-01, -7.73896314e-01, -7.71633225e-01, -7.71269273e-01,\n",
       "       -7.70623717e-01, -7.63080811e-01, -7.61212272e-01, -7.56977606e-01,\n",
       "       -7.56416625e-01, -7.51142517e-01, -7.44225435e-01, -7.42685540e-01,\n",
       "       -7.42624924e-01, -7.39527309e-01, -7.37849560e-01, -7.35314972e-01,\n",
       "       -7.31698324e-01, -7.30852495e-01, -7.30248312e-01, -7.29444763e-01,\n",
       "       -7.29253160e-01, -7.29217487e-01, -7.27308460e-01, -7.27008863e-01,\n",
       "       -7.21508429e-01, -7.17042497e-01, -7.10459950e-01, -7.02390833e-01,\n",
       "       -7.02141075e-01, -6.99783241e-01, -6.88960242e-01, -6.84875817e-01,\n",
       "       -6.78534604e-01, -6.77898179e-01, -6.76437226e-01, -6.70611602e-01,\n",
       "       -6.69774447e-01, -6.69536873e-01, -6.68915800e-01, -6.65283278e-01,\n",
       "       -6.63525238e-01, -6.62869569e-01, -6.59724984e-01, -6.55345006e-01,\n",
       "       -6.49126113e-01, -6.43471698e-01, -6.41749914e-01, -6.39368860e-01,\n",
       "       -6.38079147e-01, -6.32653312e-01, -6.32040239e-01, -6.32013955e-01,\n",
       "       -6.29531953e-01, -6.23136391e-01, -6.17029627e-01, -6.16177729e-01,\n",
       "       -6.13310023e-01, -6.09956706e-01, -6.08808487e-01, -6.03725549e-01,\n",
       "       -5.99158243e-01, -5.96217197e-01, -5.95868286e-01, -5.93251723e-01,\n",
       "       -5.89336540e-01, -5.85716960e-01, -5.83431262e-01, -5.82543527e-01,\n",
       "       -5.79149698e-01, -5.77168509e-01, -5.69370348e-01, -5.67363358e-01,\n",
       "       -5.62939519e-01, -5.57664856e-01, -5.50268756e-01, -5.49060290e-01,\n",
       "       -5.45385591e-01, -5.41669915e-01, -5.37860962e-01, -5.37602753e-01,\n",
       "       -5.37432553e-01, -5.32550183e-01, -5.30426265e-01, -5.29731107e-01,\n",
       "       -5.29290836e-01, -5.29234054e-01, -5.27197174e-01, -5.24282754e-01,\n",
       "       -5.20217725e-01, -5.18218394e-01, -5.13157818e-01, -5.03456106e-01,\n",
       "       -5.02664857e-01, -5.00874043e-01, -4.99728131e-01, -4.99379975e-01,\n",
       "       -4.98689519e-01, -4.96764133e-01, -4.94401771e-01, -4.93004650e-01,\n",
       "       -4.92876230e-01, -4.90755329e-01, -4.84643964e-01, -4.84413419e-01,\n",
       "       -4.80237526e-01, -4.78320607e-01, -4.76552443e-01, -4.64170423e-01,\n",
       "       -4.63594494e-01, -4.63305234e-01, -4.57839877e-01, -4.57673534e-01,\n",
       "       -4.53278532e-01, -4.52634736e-01, -4.49940713e-01, -4.48666083e-01,\n",
       "       -4.46881992e-01, -4.38846853e-01, -4.36439756e-01, -4.35868138e-01,\n",
       "       -4.34103408e-01, -4.33747631e-01, -4.28347245e-01, -4.21500163e-01,\n",
       "       -4.21459970e-01, -4.20918107e-01, -4.18735515e-01, -4.17203159e-01,\n",
       "       -4.16401443e-01, -4.14086450e-01, -4.12874360e-01, -4.12579399e-01,\n",
       "       -4.12359016e-01, -4.11349820e-01, -4.09861371e-01, -4.07607506e-01,\n",
       "       -4.06024638e-01, -4.05589646e-01, -4.04003309e-01, -4.01423931e-01,\n",
       "       -3.99103656e-01, -3.98048524e-01, -3.97264816e-01, -3.89638583e-01,\n",
       "       -3.89288304e-01, -3.78257275e-01, -3.76625714e-01, -3.73897896e-01,\n",
       "       -3.66244587e-01, -3.60031809e-01, -3.58784622e-01, -3.57175855e-01,\n",
       "       -3.49487259e-01, -3.47745843e-01, -3.47670625e-01, -3.43847905e-01,\n",
       "       -3.43201599e-01, -3.41910386e-01, -3.40605770e-01, -3.38245955e-01,\n",
       "       -3.33680138e-01, -3.27630165e-01, -3.25362623e-01, -3.22802911e-01,\n",
       "       -3.19082639e-01, -3.14757786e-01, -3.12033718e-01, -3.10432585e-01,\n",
       "       -3.07208710e-01, -3.06895176e-01, -2.97603130e-01, -2.95735941e-01,\n",
       "       -2.81844899e-01, -2.81047144e-01, -2.76333632e-01, -2.73342005e-01,\n",
       "       -2.69607117e-01, -2.62824384e-01, -2.62177350e-01, -2.60602366e-01,\n",
       "       -2.55616896e-01, -2.54724684e-01, -2.48423133e-01, -2.45335366e-01,\n",
       "       -2.44517150e-01, -2.41358930e-01, -2.39823257e-01, -2.35885728e-01,\n",
       "       -2.34987673e-01, -2.29906755e-01, -2.29447739e-01, -2.29349838e-01,\n",
       "       -2.18057184e-01, -2.10802421e-01, -2.10712779e-01, -2.10179552e-01,\n",
       "       -2.09094932e-01, -2.08524710e-01, -2.05337956e-01, -2.04232729e-01,\n",
       "       -1.87776550e-01, -1.87597676e-01, -1.87399864e-01, -1.86494755e-01,\n",
       "       -1.80246157e-01, -1.76051510e-01, -1.74549797e-01, -1.73610792e-01,\n",
       "       -1.73025107e-01, -1.70942210e-01, -1.69871671e-01, -1.66295461e-01,\n",
       "       -1.65635544e-01, -1.65429202e-01, -1.64680694e-01, -1.59947539e-01,\n",
       "       -1.53319350e-01, -1.53252993e-01, -1.47728356e-01, -1.41830594e-01,\n",
       "       -1.38955224e-01, -1.37949068e-01, -1.36326551e-01, -1.36289961e-01,\n",
       "       -1.30278301e-01, -1.28857174e-01, -1.28001529e-01, -1.23794041e-01,\n",
       "       -1.22616426e-01, -1.21726033e-01, -1.21124436e-01, -1.19368113e-01,\n",
       "       -1.16498761e-01, -1.03320697e-01, -1.00178076e-01, -9.92357880e-02,\n",
       "       -9.88705198e-02, -9.55138473e-02, -9.04220043e-02, -8.51202916e-02,\n",
       "       -7.79557243e-02, -7.63726083e-02, -7.49170271e-02, -6.91147723e-02,\n",
       "       -6.74630617e-02, -6.26590209e-02, -6.07166459e-02, -5.95079703e-02,\n",
       "       -5.74509329e-02, -4.77752440e-02, -4.46704291e-02, -4.15926000e-02,\n",
       "       -3.76228730e-02, -3.72848811e-02, -3.58218642e-02, -3.46369726e-02,\n",
       "       -3.44794591e-02, -3.34454607e-02, -3.28167998e-02, -3.24143578e-02,\n",
       "       -3.13196288e-02, -2.85631404e-02, -2.60683308e-02, -2.34956023e-02,\n",
       "       -1.44665042e-02, -1.14024186e-02, -6.30134327e-03, -4.53637859e-03,\n",
       "       -3.17419494e-03,  7.47601783e-03,  1.48556945e-02,  1.81501881e-02,\n",
       "        1.93513405e-02,  2.20491562e-02,  2.21295266e-02,  2.21597068e-02,\n",
       "        2.52890597e-02,  2.97993273e-02,  3.28682854e-02,  3.30974939e-02,\n",
       "        3.41465594e-02,  3.49985257e-02,  3.60392891e-02,  3.84476192e-02,\n",
       "        4.10075052e-02,  4.22467489e-02,  4.52732830e-02,  4.66822393e-02,\n",
       "        4.82977874e-02,  4.90075356e-02,  5.07201196e-02,  5.35072044e-02,\n",
       "        5.38872304e-02,  5.70158930e-02,  5.74084973e-02,  6.09211906e-02,\n",
       "        6.09640096e-02,  6.10852957e-02,  6.38369368e-02,  6.40680850e-02,\n",
       "        6.42054913e-02,  6.49707435e-02,  6.57267465e-02,  6.60880851e-02,\n",
       "        6.70590870e-02,  6.82746050e-02,  7.00253447e-02,  7.12104698e-02,\n",
       "        7.49013658e-02,  8.29052806e-02,  8.75858068e-02,  8.76420674e-02,\n",
       "        8.93152263e-02,  8.99520621e-02,  9.68424952e-02,  9.75562893e-02,\n",
       "        1.02050047e-01,  1.02110987e-01,  1.02887078e-01,  1.03076903e-01,\n",
       "        1.11956792e-01,  1.12331342e-01,  1.15670058e-01,  1.17112573e-01,\n",
       "        1.18617208e-01,  1.22948513e-01,  1.23765477e-01,  1.24071140e-01,\n",
       "        1.24956064e-01,  1.27134756e-01,  1.27309174e-01,  1.30764553e-01,\n",
       "        1.32414547e-01,  1.48068503e-01,  1.49030025e-01,  1.50499387e-01,\n",
       "        1.51422176e-01,  1.56996965e-01,  1.58461069e-01,  1.59061634e-01,\n",
       "        1.60074633e-01,  1.63121763e-01,  1.65374348e-01,  1.72421455e-01,\n",
       "        1.73853685e-01,  1.73864339e-01,  1.76294203e-01,  1.76728481e-01,\n",
       "        1.78179648e-01,  1.78903830e-01,  1.79115061e-01,  1.88559017e-01,\n",
       "        1.89199923e-01,  1.91257716e-01,  1.93141420e-01,  1.93397638e-01,\n",
       "        1.94517994e-01,  1.97924124e-01,  1.98361406e-01,  2.01158323e-01,\n",
       "        2.06341216e-01,  2.07680017e-01,  2.11206636e-01,  2.17968266e-01,\n",
       "        2.18328604e-01,  2.24292953e-01,  2.24544936e-01,  2.24859639e-01,\n",
       "        2.32614190e-01,  2.34693911e-01,  2.35374235e-01,  2.37324967e-01,\n",
       "        2.37772878e-01,  2.40637386e-01,  2.42584831e-01,  2.43604261e-01,\n",
       "        2.44250811e-01,  2.46089284e-01,  2.46753907e-01,  2.48807707e-01,\n",
       "        2.51815118e-01,  2.52699821e-01,  2.53445805e-01,  2.53979624e-01,\n",
       "        2.58029385e-01,  2.61922938e-01,  2.62929743e-01,  2.63601933e-01,\n",
       "        2.67315397e-01,  2.70802663e-01,  2.73525012e-01,  2.77169691e-01,\n",
       "        2.87882500e-01,  2.92717621e-01,  3.01954459e-01,  3.06799594e-01,\n",
       "        3.11125498e-01,  3.11658095e-01,  3.12455219e-01,  3.15213167e-01,\n",
       "        3.18912207e-01,  3.19578498e-01,  3.23372279e-01,  3.25548772e-01,\n",
       "        3.25782422e-01,  3.27548536e-01,  3.28852520e-01,  3.30157603e-01,\n",
       "        3.34451247e-01,  3.36856882e-01,  3.36885015e-01,  3.40320510e-01,\n",
       "        3.40559173e-01,  3.47116314e-01,  3.62401613e-01,  3.63053813e-01,\n",
       "        3.65476770e-01,  3.68686059e-01,  3.70151726e-01,  3.70381082e-01,\n",
       "        3.72762520e-01,  3.74572940e-01,  3.78784866e-01,  3.81915397e-01,\n",
       "        3.86340130e-01,  3.88726044e-01,  3.90769606e-01,  3.91543073e-01,\n",
       "        3.93575644e-01,  3.94621993e-01,  3.96901453e-01,  3.99986181e-01,\n",
       "        4.00554060e-01,  4.04214517e-01,  4.04317193e-01,  4.05598726e-01,\n",
       "        4.09480968e-01,  4.12332125e-01,  4.12611811e-01,  4.12946889e-01,\n",
       "        4.20708126e-01,  4.22644097e-01,  4.26347867e-01,  4.30152497e-01,\n",
       "        4.30161598e-01,  4.40504646e-01,  4.45296653e-01,  4.46421991e-01,\n",
       "        4.46754130e-01,  4.50814381e-01,  4.57699246e-01,  4.58795960e-01,\n",
       "        4.59110440e-01,  4.59276641e-01,  4.62816368e-01,  4.64355158e-01,\n",
       "        4.65708009e-01,  4.65984723e-01,  4.67575287e-01,  4.67757414e-01,\n",
       "        4.70293698e-01,  4.75213001e-01,  4.76116600e-01,  4.77085253e-01,\n",
       "        4.78204685e-01,  4.79665675e-01,  4.79937611e-01,  4.82432722e-01,\n",
       "        4.86779121e-01,  4.88289475e-01,  4.88400627e-01,  4.89334369e-01,\n",
       "        4.90642783e-01,  4.91330650e-01,  4.97580249e-01,  5.06083193e-01,\n",
       "        5.07825614e-01,  5.08321082e-01,  5.08411229e-01,  5.08662574e-01,\n",
       "        5.08937331e-01,  5.16274636e-01,  5.17498930e-01,  5.17810040e-01,\n",
       "        5.22337290e-01,  5.24687567e-01,  5.26957821e-01,  5.34334738e-01,\n",
       "        5.35909116e-01,  5.41887299e-01,  5.42331026e-01,  5.43303055e-01,\n",
       "        5.49022132e-01,  5.53822120e-01,  5.57332504e-01,  5.58602648e-01,\n",
       "        5.68813405e-01,  5.75026996e-01,  5.81837709e-01,  5.81851530e-01,\n",
       "        5.86778877e-01,  5.91384197e-01,  5.99018874e-01,  6.04866526e-01,\n",
       "        6.09646077e-01,  6.15104699e-01,  6.15590850e-01,  6.15797182e-01,\n",
       "        6.21500835e-01,  6.22193048e-01,  6.24842843e-01,  6.25586839e-01,\n",
       "        6.25845641e-01,  6.29359229e-01,  6.41655848e-01,  6.44212494e-01,\n",
       "        6.44511365e-01,  6.45769920e-01,  6.46170228e-01,  6.47112060e-01,\n",
       "        6.48803172e-01,  6.57642868e-01,  6.72291489e-01,  6.72372126e-01,\n",
       "        6.72650351e-01,  6.76550545e-01,  6.76914918e-01,  6.81499346e-01,\n",
       "        6.83720669e-01,  6.85110754e-01,  6.85291005e-01,  6.87498001e-01,\n",
       "        6.89047112e-01,  6.91011802e-01,  6.91322202e-01,  6.92095359e-01,\n",
       "        6.92708646e-01,  6.94936571e-01,  6.95761261e-01,  6.98383800e-01,\n",
       "        7.07326016e-01,  7.11216046e-01,  7.15143883e-01,  7.26112286e-01,\n",
       "        7.26972386e-01,  7.29609002e-01,  7.31095344e-01,  7.33628353e-01,\n",
       "        7.34151094e-01,  7.34331707e-01,  7.39795804e-01,  7.40060081e-01,\n",
       "        7.40447917e-01,  7.40895387e-01,  7.42321051e-01,  7.44880346e-01,\n",
       "        7.45173635e-01,  7.45694964e-01,  7.47766009e-01,  7.50693414e-01,\n",
       "        7.70111975e-01,  7.73330304e-01,  7.74706716e-01,  7.76161557e-01,\n",
       "        7.78511418e-01,  7.80813081e-01,  7.83209360e-01,  7.88290649e-01,\n",
       "        7.88487650e-01,  7.93589559e-01,  7.93684028e-01,  7.94500639e-01,\n",
       "        8.01135799e-01,  8.01332748e-01,  8.05590317e-01,  8.08507811e-01,\n",
       "        8.09207372e-01,  8.11778905e-01,  8.11813057e-01,  8.17312965e-01,\n",
       "        8.17603455e-01,  8.19554784e-01,  8.24536787e-01,  8.29240090e-01,\n",
       "        8.30119527e-01,  8.37465644e-01,  8.37590901e-01,  8.39256957e-01,\n",
       "        8.43874035e-01,  8.49586601e-01,  8.50096901e-01,  8.59368928e-01,\n",
       "        8.73081587e-01,  8.74442689e-01,  8.82331726e-01,  8.94837650e-01,\n",
       "        8.98498552e-01,  9.01176994e-01,  9.02923629e-01,  9.07760243e-01,\n",
       "        9.08408664e-01,  9.13777522e-01,  9.14853705e-01,  9.21782153e-01,\n",
       "        9.23016886e-01,  9.26217757e-01,  9.28198304e-01,  9.32324468e-01,\n",
       "        9.42185921e-01,  9.52774144e-01,  9.55080413e-01,  9.64078694e-01,\n",
       "        9.73780914e-01,  9.78931915e-01,  9.87167988e-01,  9.88383987e-01,\n",
       "        9.88785243e-01,  1.00517833e+00,  1.01831159e+00,  1.01919891e+00,\n",
       "        1.02355715e+00,  1.02423648e+00,  1.02956254e+00,  1.03512129e+00,\n",
       "        1.03721597e+00,  1.03902173e+00,  1.04375521e+00,  1.04607822e+00,\n",
       "        1.04903307e+00,  1.06278222e+00,  1.06316123e+00,  1.07501216e+00,\n",
       "        1.07616030e+00,  1.07837073e+00,  1.08248618e+00,  1.08487036e+00,\n",
       "        1.09148893e+00,  1.09262853e+00,  1.09450722e+00,  1.10313221e+00,\n",
       "        1.10887304e+00,  1.12744627e+00,  1.12790490e+00,  1.14086464e+00,\n",
       "        1.14928518e+00,  1.15134078e+00,  1.15438604e+00,  1.16090687e+00,\n",
       "        1.16220149e+00,  1.16829652e+00,  1.17252830e+00,  1.18016070e+00,\n",
       "        1.19303730e+00,  1.20707031e+00,  1.20862692e+00,  1.21003994e+00,\n",
       "        1.21324848e+00,  1.21337393e+00,  1.22228041e+00,  1.24199049e+00,\n",
       "        1.24940241e+00,  1.25007177e+00,  1.25254552e+00,  1.25349801e+00,\n",
       "        1.25546616e+00,  1.26092163e+00,  1.27088246e+00,  1.28360696e+00,\n",
       "        1.28388841e+00,  1.28674417e+00,  1.28700172e+00,  1.29702671e+00,\n",
       "        1.29910988e+00,  1.30169582e+00,  1.30170763e+00,  1.30252453e+00,\n",
       "        1.30854400e+00,  1.31391708e+00,  1.32369578e+00,  1.34694694e+00,\n",
       "        1.35234900e+00,  1.35378351e+00,  1.35411053e+00,  1.35832926e+00,\n",
       "        1.35988273e+00,  1.36097787e+00,  1.36110427e+00,  1.37528466e+00,\n",
       "        1.37550701e+00,  1.37933521e+00,  1.38807581e+00,  1.39181314e+00,\n",
       "        1.40098078e+00,  1.40193409e+00,  1.40540441e+00,  1.42298615e+00,\n",
       "        1.42303418e+00,  1.42331805e+00,  1.42629670e+00,  1.43700053e+00,\n",
       "        1.44241907e+00,  1.46223365e+00,  1.46287213e+00,  1.46649400e+00,\n",
       "        1.47146889e+00,  1.47844632e+00,  1.47852616e+00,  1.48146792e+00,\n",
       "        1.48994030e+00,  1.49329781e+00,  1.51623220e+00,  1.53037478e+00,\n",
       "        1.56237379e+00,  1.57215453e+00,  1.57960346e+00,  1.58113285e+00,\n",
       "        1.59269897e+00,  1.60365559e+00,  1.62680121e+00,  1.63171334e+00,\n",
       "        1.64266448e+00,  1.64750503e+00,  1.66014280e+00,  1.66066849e+00,\n",
       "        1.67215126e+00,  1.67589767e+00,  1.68048036e+00,  1.69470010e+00,\n",
       "        1.72669803e+00,  1.73379437e+00,  1.73647665e+00,  1.74253423e+00,\n",
       "        1.74847732e+00,  1.75788273e+00,  1.76189337e+00,  1.76326269e+00,\n",
       "        1.82429237e+00,  1.82937222e+00,  1.82970223e+00,  1.83687720e+00,\n",
       "        1.85153508e+00,  1.87646559e+00,  1.91709679e+00,  1.92428617e+00,\n",
       "        1.93073909e+00,  1.93271252e+00,  1.93468957e+00,  1.93943687e+00,\n",
       "        1.95196173e+00,  1.99044242e+00,  1.99851653e+00,  1.99901976e+00,\n",
       "        1.99984829e+00,  2.00632354e+00,  2.05057965e+00,  2.05129143e+00,\n",
       "        2.08987825e+00,  2.10915042e+00,  2.23665851e+00,  2.30685014e+00,\n",
       "        2.31963646e+00,  2.34492778e+00,  2.34742910e+00,  2.41118893e+00,\n",
       "        2.51155009e+00,  2.65698530e+00,  2.71275113e+00,  2.71614687e+00,\n",
       "        2.86102922e+00,  3.35353000e+00,  3.46124291e+00,  3.52723222e+00])"
      ]
     },
     "execution_count": 139,
     "metadata": {},
     "output_type": "execute_result"
    }
   ],
   "source": [
    "np.sort(large_arr)"
   ]
  },
  {
   "cell_type": "markdown",
   "metadata": {},
   "source": [
    "ndarrayのメソッドとしてのsortとNymPyの関数としてのsortがあり、メソッドのsortは直接置換し、関数のsortはコピーを返す  \n",
    "上のlarge_arrは5パーセンタイル分位点を求めるためのものになる"
   ]
  },
  {
   "cell_type": "markdown",
   "metadata": {},
   "source": [
    "## 4.3.5  集合関数:uniqueなど"
   ]
  },
  {
   "cell_type": "markdown",
   "metadata": {},
   "source": [
    "NumPyには1次元のndarrayを対象とした基本的な集合関数が提供されている"
   ]
  },
  {
   "cell_type": "code",
   "execution_count": 140,
   "metadata": {},
   "outputs": [
    {
     "data": {
      "text/plain": [
       "array(['Bob', 'Joe', 'Will'], dtype='<U4')"
      ]
     },
     "execution_count": 140,
     "metadata": {},
     "output_type": "execute_result"
    }
   ],
   "source": [
    "names = np.array([\"Bob\", \"Joe\", \"Will\", \"Bob\", \"Will\", \"Joe\", \"Joe\"])\n",
    "np.unique(names)"
   ]
  },
  {
   "cell_type": "code",
   "execution_count": 141,
   "metadata": {},
   "outputs": [
    {
     "data": {
      "text/plain": [
       "array([1, 2, 3, 4])"
      ]
     },
     "execution_count": 141,
     "metadata": {},
     "output_type": "execute_result"
    }
   ],
   "source": [
    "ints = np.array([3, 3, 3, 2, 2, 1, 1, 4, 4])\n",
    "np.unique(ints)"
   ]
  },
  {
   "cell_type": "markdown",
   "metadata": {},
   "source": [
    "NumPyのunique関数は、渡した配列から重複した要素を取り除き、ソートした結果を返す"
   ]
  },
  {
   "cell_type": "code",
   "execution_count": 142,
   "metadata": {},
   "outputs": [
    {
     "data": {
      "text/plain": [
       "array([ True, False, False,  True,  True, False,  True])"
      ]
     },
     "execution_count": 142,
     "metadata": {},
     "output_type": "execute_result"
    }
   ],
   "source": [
    "values = np.array([6, 0, 0, 3, 2 ,5, 6])\n",
    "np.in1d(values, [2, 3, 6])"
   ]
  },
  {
   "cell_type": "markdown",
   "metadata": {},
   "source": [
    "NumPyのin1d関数は、配列内に指定した要素群が存在するかを判別し、ブール値の配列にして返してくれる"
   ]
  },
  {
   "cell_type": "markdown",
   "metadata": {},
   "source": [
    "NumPyの集合関数\n",
    "\n",
    "|関数|説明|\n",
    "|:-|:-|\n",
    "|unique(x)|配列xに対し、重複を除外してソートする|\n",
    "|intersect1d(x, y)|配列xとyのうち、共通する要素を取り出しソートする(積集合)|\n",
    "|union1d(x, y)|配列xとyのうち、すくなくとも一方にぞんざいする要素を取り出しソートする(和集合)|\n",
    "|in1d(x, y)|配列xの各要素に対し、配列yの要素群が含まれているかを判定し、その結果を真偽値配列として返す|\n",
    "|setdiff1d(x, y)|配列xから、配列yに存在する要素を取り除きソートする(差集合)|\n",
    "|setxor1d(x, y)|配列xとyのうち、どちらか一方にのみ存在する要素を取り出しソートする(排他的論理和)|"
   ]
  },
  {
   "cell_type": "markdown",
   "metadata": {},
   "source": [
    "# 4.4  ndarrayのファイル入出力"
   ]
  },
  {
   "cell_type": "markdown",
   "metadata": {},
   "source": [
    "NumPyはデータの入出力をサポートしており、形式にバイナリとテキストを選ぶことができる  \n",
    "ただし、テキストファイルやテーブル形式データを読み込むのにpandasを用いることが多いため、バイナリフォーマットにフォーカスしていく  "
   ]
  },
  {
   "cell_type": "code",
   "execution_count": 143,
   "metadata": {},
   "outputs": [],
   "source": [
    "arr = np.arange(10)\n",
    "np.save(r\".\\pydata\\some_array\", arr)"
   ]
  },
  {
   "cell_type": "markdown",
   "metadata": {},
   "source": [
    "NumPyのsave関数にファイル名とndarrayを渡すことで、ディスクへの保存ができる  \n",
    "デフォルトではndarrayデータは無圧縮のバイナリで保管され、拡張子は.npyになる"
   ]
  },
  {
   "cell_type": "code",
   "execution_count": 144,
   "metadata": {},
   "outputs": [
    {
     "data": {
      "text/plain": [
       "array([0, 1, 2, 3, 4, 5, 6, 7, 8, 9])"
      ]
     },
     "execution_count": 144,
     "metadata": {},
     "output_type": "execute_result"
    }
   ],
   "source": [
    "np.load(r\".\\pydata\\some_array.npy\")"
   ]
  },
  {
   "cell_type": "markdown",
   "metadata": {},
   "source": [
    "NumPyのload関数にファイル名を渡すことで.npyファイルのndarrayをディスクから読み込むことができる"
   ]
  },
  {
   "cell_type": "code",
   "execution_count": 145,
   "metadata": {},
   "outputs": [],
   "source": [
    "arr1 = np.arange(0, 5)\n",
    "arr2 = np.arange(5,10)"
   ]
  },
  {
   "cell_type": "code",
   "execution_count": 146,
   "metadata": {},
   "outputs": [],
   "source": [
    "np.savez(r\".\\pydata\\array_archive.npz\", a=arr1, b=arr2)"
   ]
  },
  {
   "cell_type": "markdown",
   "metadata": {},
   "source": [
    "NumPyのsavez関数を使うことで複数のndarrayを無圧縮アーカイブとして拡張子を.npzで保存することができる  \n",
    "個々のndarrayを区別するために、キーワードを指定するためにキーワード引数としてndarrayを保存する"
   ]
  },
  {
   "cell_type": "code",
   "execution_count": 147,
   "metadata": {},
   "outputs": [],
   "source": [
    "arch = np.load(r\".\\pydata\\array_archive.npz\")"
   ]
  },
  {
   "cell_type": "code",
   "execution_count": 148,
   "metadata": {},
   "outputs": [
    {
     "data": {
      "text/plain": [
       "array([0, 1, 2, 3, 4])"
      ]
     },
     "execution_count": 148,
     "metadata": {},
     "output_type": "execute_result"
    }
   ],
   "source": [
    "arch[\"a\"]"
   ]
  },
  {
   "cell_type": "code",
   "execution_count": 149,
   "metadata": {},
   "outputs": [
    {
     "data": {
      "text/plain": [
       "array([5, 6, 7, 8, 9])"
      ]
     },
     "execution_count": 149,
     "metadata": {},
     "output_type": "execute_result"
    }
   ],
   "source": [
    "arch[\"b\"]"
   ]
  },
  {
   "cell_type": "markdown",
   "metadata": {},
   "source": [
    ".npzファイルを読み込んでndarrayを取り出すには、NumPyのload関数でndarrayのオブジェクトを作成し、辞書のようにキーワードを指定して呼び出す  \n",
    "load関数で読み込んだ時点は遅延読み込みで、キーワードを指定された時点で初めてロードされる"
   ]
  },
  {
   "cell_type": "code",
   "execution_count": 150,
   "metadata": {},
   "outputs": [],
   "source": [
    "np.savez_compressed(r\".\\pydata\\arrays_compressed.npz\", a=arr1, b=arr2)"
   ]
  },
  {
   "cell_type": "markdown",
   "metadata": {},
   "source": [
    "NumPyのsavez_compressed関数を使うことでデータを圧縮して保存することができる"
   ]
  },
  {
   "cell_type": "markdown",
   "metadata": {},
   "source": [
    "# 4.5  行列計算"
   ]
  },
  {
   "cell_type": "markdown",
   "metadata": {},
   "source": [
    "行列の計算(線形代数)には行列の積、行列の分解、行列式の計算、正方行列にまつわる各種の計算などがあり、これらはNumPyを含むあらゆる配列計算ライブラリにとって重要な機能の一部になる  \n",
    "MATLABなどのほかの言語と比較して、NumPyでは演算子\\*の定義が異なる  \n",
    "MATLABでは\\*を2次元配列同士の内積(ドット積)として使うが、NumPyでは対応する要素ごとを掛け合わせることを意味する  \n",
    "そのためNumPyでは内積を計算するためのdot関数(もしくはdotメソッド)が提供されている"
   ]
  },
  {
   "cell_type": "code",
   "execution_count": 151,
   "metadata": {},
   "outputs": [],
   "source": [
    "x = np.array([[1., 2., 3.], [4., 5., 6.]])\n",
    "y = np.array([[6., 23.], [-1, 7], [8, 9]])"
   ]
  },
  {
   "cell_type": "code",
   "execution_count": 152,
   "metadata": {},
   "outputs": [
    {
     "data": {
      "text/plain": [
       "array([[1., 2., 3.],\n",
       "       [4., 5., 6.]])"
      ]
     },
     "execution_count": 152,
     "metadata": {},
     "output_type": "execute_result"
    }
   ],
   "source": [
    "x"
   ]
  },
  {
   "cell_type": "code",
   "execution_count": 153,
   "metadata": {},
   "outputs": [
    {
     "data": {
      "text/plain": [
       "array([[ 6., 23.],\n",
       "       [-1.,  7.],\n",
       "       [ 8.,  9.]])"
      ]
     },
     "execution_count": 153,
     "metadata": {},
     "output_type": "execute_result"
    }
   ],
   "source": [
    "y"
   ]
  },
  {
   "cell_type": "code",
   "execution_count": 154,
   "metadata": {},
   "outputs": [
    {
     "data": {
      "text/plain": [
       "array([[ 28.,  64.],\n",
       "       [ 67., 181.]])"
      ]
     },
     "execution_count": 154,
     "metadata": {},
     "output_type": "execute_result"
    }
   ],
   "source": [
    "x.dot(y)"
   ]
  },
  {
   "cell_type": "markdown",
   "metadata": {},
   "source": [
    "上の内積の計算は`1*6 + 2*-2 + 3*8 = 28 , 1*23 + 2*7 + 3*9 = 64 , 4*6 + 5*-1 + 6*8 = 67 , 4*23 + 5*7 + 6*9 = 181`という感じで求められている  "
   ]
  },
  {
   "cell_type": "code",
   "execution_count": 155,
   "metadata": {},
   "outputs": [
    {
     "data": {
      "text/plain": [
       "array([[ 28.,  64.],\n",
       "       [ 67., 181.]])"
      ]
     },
     "execution_count": 155,
     "metadata": {},
     "output_type": "execute_result"
    }
   ],
   "source": [
    "np.dot(x, y)"
   ]
  },
  {
   "cell_type": "markdown",
   "metadata": {},
   "source": [
    "上のように関数で求めることもでき、x.dot(y)と同じ結果になる"
   ]
  },
  {
   "cell_type": "code",
   "execution_count": 156,
   "metadata": {},
   "outputs": [
    {
     "data": {
      "text/plain": [
       "array([ 6., 15.])"
      ]
     },
     "execution_count": 156,
     "metadata": {},
     "output_type": "execute_result"
    }
   ],
   "source": [
    "np.dot(x, np.ones(3))"
   ]
  },
  {
   "cell_type": "markdown",
   "metadata": {},
   "source": [
    "2次元配列と、それに対応する要素数を持つ1次元配列の内積を求めると、1次元配列になる"
   ]
  },
  {
   "cell_type": "code",
   "execution_count": 157,
   "metadata": {},
   "outputs": [
    {
     "data": {
      "text/plain": [
       "array([[ 28.,  64.],\n",
       "       [ 67., 181.]])"
      ]
     },
     "execution_count": 157,
     "metadata": {},
     "output_type": "execute_result"
    }
   ],
   "source": [
    "x @ y"
   ]
  },
  {
   "cell_type": "markdown",
   "metadata": {},
   "source": [
    "行列の内積を求める二項演算子として@を使うこともできる"
   ]
  },
  {
   "cell_type": "markdown",
   "metadata": {},
   "source": [
    "標準的な行列の分解、逆、行列式の計算といった機能はNumPyのlinalgモジュールで提供されている"
   ]
  },
  {
   "cell_type": "code",
   "execution_count": 158,
   "metadata": {},
   "outputs": [],
   "source": [
    "from numpy.linalg import inv, qr"
   ]
  },
  {
   "cell_type": "code",
   "execution_count": 159,
   "metadata": {},
   "outputs": [],
   "source": [
    "X = np.random.randn(5, 5)"
   ]
  },
  {
   "cell_type": "code",
   "execution_count": 160,
   "metadata": {},
   "outputs": [],
   "source": [
    "mat = X.T.dot(X)"
   ]
  },
  {
   "cell_type": "code",
   "execution_count": 161,
   "metadata": {},
   "outputs": [
    {
     "data": {
      "text/plain": [
       "array([[ 8.18141116, -4.16621259, -2.71770301, -1.39797575, -0.94274733],\n",
       "       [-4.16621259,  5.74622725, -0.67343092,  2.40600728,  1.5812206 ],\n",
       "       [-2.71770301, -0.67343092,  3.69968407,  0.57452678, -0.38743273],\n",
       "       [-1.39797575,  2.40600728,  0.57452678, 14.06082212,  1.48337181],\n",
       "       [-0.94274733,  1.5812206 , -0.38743273,  1.48337181,  1.09687404]])"
      ]
     },
     "execution_count": 161,
     "metadata": {},
     "output_type": "execute_result"
    }
   ],
   "source": [
    "mat"
   ]
  },
  {
   "cell_type": "code",
   "execution_count": 162,
   "metadata": {},
   "outputs": [
    {
     "data": {
      "text/plain": [
       "array([[ 0.44986977,  0.38105716,  0.41021154, -0.04124807,  0.03801138],\n",
       "       [ 0.38105716,  0.61218557,  0.35910831, -0.04242489, -0.37077878],\n",
       "       [ 0.41021154,  0.35910831,  0.66330647, -0.06422855,  0.15604147],\n",
       "       [-0.04124807, -0.04242489, -0.06422855,  0.08932835, -0.11778454],\n",
       "       [ 0.03801138, -0.37077878,  0.15604147, -0.11778454,  1.69325916]])"
      ]
     },
     "execution_count": 162,
     "metadata": {},
     "output_type": "execute_result"
    }
   ],
   "source": [
    "inv(mat)"
   ]
  },
  {
   "cell_type": "code",
   "execution_count": 163,
   "metadata": {},
   "outputs": [
    {
     "data": {
      "text/plain": [
       "array([[ 1.00000000e+00, -1.56608514e-16, -5.64557862e-17,\n",
       "         4.36832586e-18, -8.18610178e-17],\n",
       "       [-3.54038319e-16,  1.00000000e+00, -1.06383079e-16,\n",
       "         4.58022733e-18,  1.12723042e-16],\n",
       "       [-3.43080602e-17, -1.07128968e-16,  1.00000000e+00,\n",
       "         1.08927664e-17,  4.40656518e-17],\n",
       "       [-2.08809270e-16, -2.73831266e-16, -2.27436375e-16,\n",
       "         1.00000000e+00, -1.75656704e-16],\n",
       "       [-1.30690163e-16, -8.55499912e-17, -8.58317812e-17,\n",
       "         2.21708310e-17,  1.00000000e+00]])"
      ]
     },
     "execution_count": 163,
     "metadata": {},
     "output_type": "execute_result"
    }
   ],
   "source": [
    "mat.dot(inv(mat))"
   ]
  },
  {
   "cell_type": "code",
   "execution_count": 164,
   "metadata": {},
   "outputs": [],
   "source": [
    "q, r = qr(mat)"
   ]
  },
  {
   "cell_type": "code",
   "execution_count": 165,
   "metadata": {},
   "outputs": [
    {
     "data": {
      "text/plain": [
       "array([[-9.72223401,  6.27937452,  3.07764195,  4.53371915,  1.68228521],\n",
       "       [ 0.        , -4.4371781 ,  3.06379582, -6.07816096, -1.80618222],\n",
       "       [ 0.        ,  0.        , -1.77441298, -9.28603596, -0.47760002],\n",
       "       [ 0.        ,  0.        ,  0.        , -8.01568993, -0.54193576],\n",
       "       [ 0.        ,  0.        ,  0.        ,  0.        ,  0.57313691]])"
      ]
     },
     "execution_count": 165,
     "metadata": {},
     "output_type": "execute_result"
    }
   ],
   "source": [
    "r"
   ]
  },
  {
   "cell_type": "code",
   "execution_count": 166,
   "metadata": {},
   "outputs": [
    {
     "data": {
      "text/plain": [
       "array([[-0.84151556, -0.25195715, -0.36300784,  0.31003202,  0.02178573],\n",
       "       [ 0.4285242 , -0.68858252, -0.06616344,  0.54100304, -0.21250701],\n",
       "       [ 0.27953483,  0.54736023, -0.65507635,  0.43027172,  0.08943313],\n",
       "       [ 0.14379162, -0.33874815, -0.65928442, -0.65219672, -0.06750667],\n",
       "       [ 0.09696818, -0.21913051,  0.00816886,  0.02648666,  0.97046933]])"
      ]
     },
     "execution_count": 166,
     "metadata": {},
     "output_type": "execute_result"
    }
   ],
   "source": [
    "q"
   ]
  },
  {
   "cell_type": "markdown",
   "metadata": {},
   "source": [
    "よく用いられるnumpy.linalg関数\n",
    "\n",
    "|関数|説明|\n",
    "|:-|:-|\n",
    "|diag|正方行列の対角要素、あるいは非対角要素を1次元配列として返す。1次元配列に対しては、その要素を対角要素に配置した対角行列(残りの部分を0で埋めた正方行列を返す)|\n",
    "|dot|2つの行列の内積を計算する|\n",
    "|trace|対角要素の総和を計算する|\n",
    "|det|行列式を計算する|\n",
    "|inv|正方行列に対して逆行列を計算する|\n",
    "|pinv|ムーアーペンローズの議事逆行列を計算する|\n",
    "|qr|QR分解を計算する|\n",
    "|svd|特異値分解(SVD)を計算する|\n",
    "|solve|正方行列Aに対して線形方程式Ax=bをxについて解く|\n",
    "|lstsq|Ax=bに対して最小二乗法による近似を求める|"
   ]
  },
  {
   "cell_type": "markdown",
   "metadata": {},
   "source": [
    "# 4.6  疑似乱数生成"
   ]
  },
  {
   "cell_type": "markdown",
   "metadata": {},
   "source": [
    "NumPyは組み込みのrandomを補完する形でNumPyのrandomモジュールを提供している  \n",
    "このモジュールは、さまざまな種類の確率分布関数に基づく乱数値を用いてndarrayを効率的に生成する"
   ]
  },
  {
   "cell_type": "code",
   "execution_count": 167,
   "metadata": {},
   "outputs": [
    {
     "data": {
      "text/plain": [
       "array([[-0.3233818 ,  0.97745279,  0.648424  , -1.41721889],\n",
       "       [-1.22921671,  0.23775644,  0.60086487,  0.35744023],\n",
       "       [ 0.5691105 , -0.46925124, -0.82626201,  0.60152974],\n",
       "       [ 1.86196389, -0.61900797,  0.94801077, -1.05181315]])"
      ]
     },
     "execution_count": 167,
     "metadata": {},
     "output_type": "execute_result"
    }
   ],
   "source": [
    "samples = np.random.normal(size=(4, 4))\n",
    "samples"
   ]
  },
  {
   "cell_type": "markdown",
   "metadata": {},
   "source": [
    "上ではrandomモジュールのnormal関数を用いて正規分布に基づいた乱数を生成している"
   ]
  },
  {
   "cell_type": "markdown",
   "metadata": {},
   "source": [
    "生成された乱数は、乱数生成器に与えるシードに基づいて振る舞いが決まっている  \n",
    "いわば決定的なアルゴリズムによって生成されたものであることから疑似関数とも呼ばれる  "
   ]
  },
  {
   "cell_type": "code",
   "execution_count": 168,
   "metadata": {},
   "outputs": [
    {
     "data": {
      "text/plain": [
       "array([ 0.47143516, -1.19097569,  1.43270697])"
      ]
     },
     "execution_count": 168,
     "metadata": {},
     "output_type": "execute_result"
    }
   ],
   "source": [
    "np.random.seed(1234)\n",
    "np.random.randn(3)"
   ]
  },
  {
   "cell_type": "code",
   "execution_count": 169,
   "metadata": {},
   "outputs": [
    {
     "data": {
      "text/plain": [
       "array([ 0.47143516, -1.19097569,  1.43270697])"
      ]
     },
     "execution_count": 169,
     "metadata": {},
     "output_type": "execute_result"
    }
   ],
   "source": [
    "np.random.seed(1234) # 同じ結果が得られる\n",
    "np.random.randn(3)"
   ]
  },
  {
   "cell_type": "markdown",
   "metadata": {},
   "source": [
    "NumPyでは乱数シードを設定できるようにnumpy.random.seedが提供されている"
   ]
  },
  {
   "cell_type": "markdown",
   "metadata": {},
   "source": [
    "NumPyのrandomモジュールで提供される乱数データ生成関数は、いずれも共通(グローバルな)の乱数シードを参照されている"
   ]
  },
  {
   "cell_type": "code",
   "execution_count": 170,
   "metadata": {},
   "outputs": [
    {
     "data": {
      "text/plain": [
       "array([ 0.47143516, -1.19097569,  1.43270697, -0.3126519 , -0.72058873,\n",
       "        0.88716294,  0.85958841, -0.6365235 ,  0.01569637, -2.24268495])"
      ]
     },
     "execution_count": 170,
     "metadata": {},
     "output_type": "execute_result"
    }
   ],
   "source": [
    "rng = np.random.RandomState(1234)\n",
    "rng.randn(10)"
   ]
  },
  {
   "cell_type": "markdown",
   "metadata": {},
   "source": [
    "グローバル参照を避けるには、randomモジュールのRandomState関数を用いることでseed関数とは分離された乱数生成器を準備することができる  "
   ]
  },
  {
   "cell_type": "markdown",
   "metadata": {},
   "source": [
    "代表的なnumpy.randomの関数\n",
    "\n",
    "|関数|説明|\n",
    "|:-|:-|\n",
    "|seed|乱数生成器のシード|\n",
    "|permitation|引数が配列の場合、その要素をランダムに並べ替えた新しい配列を返す。引数が整数の場合、その引数でnp.arangeを呼び出し、結果をランダムに並べ替えた配列を返す|\n",
    "|shuffle|その配列自体の要素をランダムに並べ替える(新規配列は返さない)|\n",
    "|rand|連続一様分布に従う乱数を返す|\n",
    "|randint|与えられた整数範囲内での整数乱数を返す|\n",
    "|randn|平均0、標準偏差1である正規分布に従う乱数を返す|\n",
    "|binomial|二項分布に従う乱数を返す|\n",
    "|normal|正規分布に従う乱数を返す|\n",
    "|beta|ベータ分布に従う乱数を返す|\n",
    "|chisquare|カイ二乗分布に従う乱数を返す|\n",
    "|gamma|ガンマ分布に従う乱数を返す|\n",
    "|uniform|区間(0,1)の一様分布に従う乱数を返す|"
   ]
  },
  {
   "cell_type": "markdown",
   "metadata": {},
   "source": [
    "# 4.7  例：ランダムランダムウォーク"
   ]
  },
  {
   "cell_type": "markdown",
   "metadata": {},
   "source": [
    "ランダムウォークによるシミュレーションを題材に、配列演算がどのように活用されているかを見ていく  \n",
    "まず取り上げるのは、単純なランダムウォークとして0からスタートし、次の一歩が+1もしくは-1に等確率で決まるというものとする"
   ]
  },
  {
   "cell_type": "code",
   "execution_count": 171,
   "metadata": {},
   "outputs": [],
   "source": [
    "import random\n",
    "position = 0\n",
    "walk = [position]\n",
    "steps = 1000\n",
    "for i in range(steps):\n",
    "    step = 1 if random.randint(0, 1) else -1\n",
    "    position += step\n",
    "    walk.append(position)"
   ]
  },
  {
   "cell_type": "code",
   "execution_count": 172,
   "metadata": {},
   "outputs": [
    {
     "data": {
      "text/plain": [
       "[<matplotlib.lines.Line2D at 0x28ff3bfafc8>]"
      ]
     },
     "execution_count": 172,
     "metadata": {},
     "output_type": "execute_result"
    },
    {
     "data": {
      "image/png": "[encoded data removed]",
      "text/plain": [
       "<Figure size 432x288 with 1 Axes>"
      ]
     },
     "metadata": {
      "needs_background": "light"
     },
     "output_type": "display_data"
    }
   ],
   "source": [
    "import matplotlib.pyplot as plt\n",
    "plt.plot(walk[:100])"
   ]
  },
  {
   "cell_type": "markdown",
   "metadata": {},
   "source": [
    "ランダムウォークで1000歩進んだ状況をPython標準環境で記述すると上のようになり、最初の100歩がどう進んだのかを図で表示してみた  \n",
    "この結果から、ある時点での到達した位置は、配列に蓄積してきたこれまでの累積和と等しいことがわかる  \n",
    "したがって、np.randomを用いてこの1000回のコイントスを記述し、それぞれの累積和を求めることができる"
   ]
  },
  {
   "cell_type": "code",
   "execution_count": 173,
   "metadata": {},
   "outputs": [],
   "source": [
    "nsteps = 1000\n",
    "draws = np.random.randint(0, 2, size=nsteps)\n",
    "steps = np.where(draws > 0, 1, -1) # drawsが0より大きかったら1、それ以外は-1\n",
    "walk = steps.cumsum() # 要素の累積和を要素ごとに求める"
   ]
  },
  {
   "cell_type": "markdown",
   "metadata": {},
   "source": [
    "変数walkにはこれまで辿ってきた軌跡がndarrayとして記録されている"
   ]
  },
  {
   "cell_type": "code",
   "execution_count": 174,
   "metadata": {},
   "outputs": [
    {
     "data": {
      "text/plain": [
       "-9"
      ]
     },
     "execution_count": 174,
     "metadata": {},
     "output_type": "execute_result"
    }
   ],
   "source": [
    "walk.min()"
   ]
  },
  {
   "cell_type": "code",
   "execution_count": 175,
   "metadata": {},
   "outputs": [
    {
     "data": {
      "text/plain": [
       "60"
      ]
     },
     "execution_count": 175,
     "metadata": {},
     "output_type": "execute_result"
    }
   ],
   "source": [
    "walk.max()"
   ]
  },
  {
   "cell_type": "markdown",
   "metadata": {},
   "source": [
    "ndarrayのminとmaxメソッドを使って到達した最大値と最小値を知ることができる"
   ]
  },
  {
   "cell_type": "code",
   "execution_count": 176,
   "metadata": {},
   "outputs": [
    {
     "data": {
      "text/plain": [
       "289"
      ]
     },
     "execution_count": 176,
     "metadata": {},
     "output_type": "execute_result"
    }
   ],
   "source": [
    "(np.abs(walk) >= 10).argmax()"
   ]
  },
  {
   "cell_type": "markdown",
   "metadata": {},
   "source": [
    "上のようにすることで原点から10の距離まで離れた点に到達するまでにどれくらいかかったかという初到達時間を求めることができる  \n",
    "np.absで位置の情報を絶対値にし、10より多ければ要素をTrueにしている  \n",
    "argmaxメソッドは、配列内の最大値のうち一番若いインデックス値を戻す  \n",
    "真偽値配列の最大値はTrueなので最初にTrueになった要素のインデックス値を返す  \n",
    "しかし、この方法だとargmaxを呼んだ時点ですべての要素が検査され、要素が多いと負担がかかってしまうため、Trueが出た時点で処理を終了するようにした方がよい"
   ]
  },
  {
   "cell_type": "markdown",
   "metadata": {},
   "source": [
    "## 4.7.1  多重ランダムウォーク"
   ]
  },
  {
   "cell_type": "markdown",
   "metadata": {},
   "source": [
    "今回の目的はランダムウォークを5000\\*1000回試行し、2次元配列として記録することにする"
   ]
  },
  {
   "cell_type": "code",
   "execution_count": 177,
   "metadata": {},
   "outputs": [
    {
     "data": {
      "text/plain": [
       "array([[  1,   0,  -1, ...,  42,  43,  44],\n",
       "       [  1,   2,   3, ...,  42,  43,  42],\n",
       "       [ -1,   0,   1, ..., -34, -35, -34],\n",
       "       ...,\n",
       "       [ -1,   0,   1, ...,  66,  65,  64],\n",
       "       [ -1,   0,  -1, ...,  -2,  -1,   0],\n",
       "       [ -1,  -2,  -3, ...,  32,  33,  34]], dtype=int32)"
      ]
     },
     "execution_count": 177,
     "metadata": {},
     "output_type": "execute_result"
    }
   ],
   "source": [
    "nwalks = 5000\n",
    "nsteps = 1000\n",
    "draws = np.random.randint(0, 2, size=(nwalks, nsteps))\n",
    "steps = np.where(draws > 0, 1, -1)\n",
    "walks = steps.cumsum(1) # 行ごとに累積和を求める\n",
    "walks"
   ]
  },
  {
   "cell_type": "markdown",
   "metadata": {},
   "source": [
    "1次元のランダムウォークを参考に作ると上のようになる  "
   ]
  },
  {
   "cell_type": "code",
   "execution_count": 178,
   "metadata": {},
   "outputs": [
    {
     "data": {
      "text/plain": [
       "122"
      ]
     },
     "execution_count": 178,
     "metadata": {},
     "output_type": "execute_result"
    }
   ],
   "source": [
    "walks.max()"
   ]
  },
  {
   "cell_type": "code",
   "execution_count": 179,
   "metadata": {},
   "outputs": [
    {
     "data": {
      "text/plain": [
       "-132"
      ]
     },
     "execution_count": 179,
     "metadata": {},
     "output_type": "execute_result"
    }
   ],
   "source": [
    "walks.min()"
   ]
  },
  {
   "cell_type": "markdown",
   "metadata": {},
   "source": [
    "maxとminを使うことで、5000×1000の要素の中から到達した最大値と最小値を求めることができる"
   ]
  },
  {
   "cell_type": "markdown",
   "metadata": {},
   "source": [
    "このランダムウォークのデータから、距離が30以上に到達したときの初到達時間を求めるとする  \n",
    "しかし、すべてのデータが30以上に到達しているわけではないので30以上に到達したことがあるかを調べる必要がある"
   ]
  },
  {
   "cell_type": "code",
   "execution_count": 180,
   "metadata": {},
   "outputs": [
    {
     "data": {
      "text/plain": [
       "array([ True,  True,  True, ...,  True, False,  True])"
      ]
     },
     "execution_count": 180,
     "metadata": {},
     "output_type": "execute_result"
    }
   ],
   "source": [
    "hits30 = (np.abs(walks) >= 30).any(1)\n",
    "hits30"
   ]
  },
  {
   "cell_type": "code",
   "execution_count": 181,
   "metadata": {},
   "outputs": [
    {
     "data": {
      "text/plain": [
       "3338"
      ]
     },
     "execution_count": 181,
     "metadata": {},
     "output_type": "execute_result"
    }
   ],
   "source": [
    "hits30.sum()"
   ]
  },
  {
   "cell_type": "markdown",
   "metadata": {},
   "source": [
    "anyメソッドは、Trueが1個でも含まれているかを調べるメソッドになる  \n",
    "そして30以上に到達したかどうかを調べた配列にsumメソッドを使い何個のデータが到達したかを調べている"
   ]
  },
  {
   "cell_type": "code",
   "execution_count": 182,
   "metadata": {},
   "outputs": [
    {
     "data": {
      "text/plain": [
       "array([213, 411, 307, ..., 409, 295, 739], dtype=int64)"
      ]
     },
     "execution_count": 182,
     "metadata": {},
     "output_type": "execute_result"
    }
   ],
   "source": [
    "crossing_times = (np.abs(walks[hits30]) >=30).argmax(1)\n",
    "crossing_times"
   ]
  },
  {
   "cell_type": "markdown",
   "metadata": {},
   "source": [
    "5000個のデータの中から、30以上に到達したデータのみを指定してargmaxメソッドを使ってインデックス値を得ることで、到達したデータのみを使って求めることができた"
   ]
  },
  {
   "cell_type": "code",
   "execution_count": null,
   "metadata": {},
   "outputs": [],
   "source": []
  }
 ],
 "metadata": {
  "kernelspec": {
   "display_name": "Python 3",
   "language": "python",
   "name": "python3"
  },
  "language_info": {
   "codemirror_mode": {
    "name": "ipython",
    "version": 3
   },
   "file_extension": ".py",
   "mimetype": "text/x-python",
   "name": "python",
   "nbconvert_exporter": "python",
   "pygments_lexer": "ipython3",
   "version": "3.7.6"
  }
 },
 "nbformat": 4,
 "nbformat_minor": 4
}
